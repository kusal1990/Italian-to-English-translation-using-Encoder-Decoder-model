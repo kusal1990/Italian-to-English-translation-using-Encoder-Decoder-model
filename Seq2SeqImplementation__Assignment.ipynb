{
  "cells": [
    {
      "cell_type": "markdown",
      "metadata": {
        "id": "fwPL0hIlGKoA"
      },
      "source": [
        "# <font color='red'>**Sequence to sequence implementation**</font>"
      ]
    },
    {
      "cell_type": "markdown",
      "metadata": {
        "id": "-nYHE_1ck2az"
      },
      "source": [
        "**There will be some functions that start with the word \"grader\" ex: grader_check_encoder(), grader_check_attention(), grader_onestepdecoder() etc, you should not change those function definition.<br><br>Every Grader function has to return True.**\n",
        "\n",
        "**Note 1:**  There are many blogs on the attention mechanisum which might be misleading you,\n",
        " so do read the references completly and after that only please check the internet.\n",
        " The best things is to read the research papers and try to implement it on your own. \n",
        "\n",
        "**Note 2:** To complete this assignment, the reference that are mentioned will be enough.\n",
        "\n",
        "**Note 3:** If you are starting this assignment, you might have completed minimum of 20 assignment.\n",
        " If  you are still not able to implement this algorithm you might have rushed in the previous assignments \n",
        "with out learning much and didn't spend your time productively."
      ]
    },
    {
      "cell_type": "markdown",
      "metadata": {
        "id": "QyfZo8fmLOec"
      },
      "source": [
        "## Task -1: Simple Encoder and Decoder\n",
        "Implement simple Encoder-Decoder model"
      ]
    },
    {
      "cell_type": "markdown",
      "metadata": {
        "id": "IvNSZXNkkOkO"
      },
      "source": [
        "1. Download the **Italian** to **English** translation dataset from <a href=\"http://www.manythings.org/anki/ita-eng.zip\">here</a>\n",
        "\n",
        "2. You will find **ita.txt** file in that ZIP, \n",
        "you can read that data using python and preprocess that data this way only: \n",
        "<img src='https://i.imgur.com/z0j79Jf.png'>    \n",
        "    \n",
        "3. You have to implement a simple Encoder and Decoder architecture  \n",
        "\n",
        "4. Use BLEU score as metric to evaluate your model. You can use any loss function you need.\n",
        "\n",
        "5. You have to use Tensorboard to plot the Graph, Scores and histograms of gradients. \n",
        "\n",
        "6.  a. Check the reference notebook <br>\n",
        "    b. <a href=\"https://medium.com/analytics-vidhya/understand-sequence-to-sequence-models-in-a-more-intuitive-way-1d517d8795bb\">Resource 2</a>\n",
        "    \n",
        "\n"
      ]
    },
    {
      "cell_type": "markdown",
      "metadata": {
        "id": "3k_AlAuKJqVA"
      },
      "source": [
        "<font color='blue'>**Load the data**</font>"
      ]
    },
    {
      "cell_type": "code",
      "execution_count": 1,
      "metadata": {
        "colab": {
          "base_uri": "https://localhost:8080/"
        },
        "id": "C7ENrBSlbuqo",
        "outputId": "a1dfbb3e-c532-46de-ab0d-c158626c4923"
      },
      "outputs": [
        {
          "output_type": "stream",
          "name": "stdout",
          "text": [
            "--2022-04-04 15:56:49--  http://www.manythings.org/anki/ita-eng.zip\n",
            "Resolving www.manythings.org (www.manythings.org)... 172.67.186.54, 104.21.92.44, 2606:4700:3033::ac43:ba36, ...\n",
            "Connecting to www.manythings.org (www.manythings.org)|172.67.186.54|:80... connected.\n",
            "HTTP request sent, awaiting response... 200 OK\n",
            "Length: 7757958 (7.4M) [application/zip]\n",
            "Saving to: ‘ita-eng.zip’\n",
            "\n",
            "ita-eng.zip         100%[===================>]   7.40M  --.-KB/s    in 0.09s   \n",
            "\n",
            "2022-04-04 15:56:50 (80.4 MB/s) - ‘ita-eng.zip’ saved [7757958/7757958]\n",
            "\n",
            "Archive:  ita-eng.zip\n",
            "  inflating: ita.txt                 \n",
            "  inflating: _about.txt              \n"
          ]
        }
      ],
      "source": [
        "!wget http://www.manythings.org/anki/ita-eng.zip\n",
        "!unzip ita-eng.zip"
      ]
    },
    {
      "cell_type": "code",
      "execution_count": 2,
      "metadata": {
        "id": "fU80Ao-AGaob"
      },
      "outputs": [],
      "source": [
        "import matplotlib.pyplot as plt\n",
        "%matplotlib inline\n",
        "import seaborn as sns\n",
        "import pandas as pd\n",
        "import re\n",
        "import tensorflow as tf\n",
        "from tensorflow.keras.layers import Embedding, LSTM, Dense\n",
        "from tensorflow.keras.models import Model\n",
        "from tensorflow.keras.preprocessing.text import Tokenizer\n",
        "from tensorflow.keras.preprocessing.sequence import pad_sequences\n",
        "import numpy as np\n",
        "import datetime\n",
        "import warnings\n",
        "warnings.filterwarnings('ignore')"
      ]
    },
    {
      "cell_type": "code",
      "execution_count": 3,
      "metadata": {
        "colab": {
          "base_uri": "https://localhost:8080/",
          "height": 223
        },
        "id": "01XR3K1HbsSv",
        "outputId": "41f51d3c-e9a0-47b9-f9ee-e9ad23c319d1"
      },
      "outputs": [
        {
          "output_type": "stream",
          "name": "stdout",
          "text": [
            "(353281, 2)\n"
          ]
        },
        {
          "output_type": "execute_result",
          "data": {
            "text/plain": [
              "  english   italian\n",
              "0     Hi.     Ciao!\n",
              "1     Hi.     Ciao.\n",
              "2    Run!    Corri!\n",
              "3    Run!    Corra!\n",
              "4    Run!  Correte!"
            ],
            "text/html": [
              "\n",
              "  <div id=\"df-5db884b5-7b1d-44b2-9c80-d97feb1bcce6\">\n",
              "    <div class=\"colab-df-container\">\n",
              "      <div>\n",
              "<style scoped>\n",
              "    .dataframe tbody tr th:only-of-type {\n",
              "        vertical-align: middle;\n",
              "    }\n",
              "\n",
              "    .dataframe tbody tr th {\n",
              "        vertical-align: top;\n",
              "    }\n",
              "\n",
              "    .dataframe thead th {\n",
              "        text-align: right;\n",
              "    }\n",
              "</style>\n",
              "<table border=\"1\" class=\"dataframe\">\n",
              "  <thead>\n",
              "    <tr style=\"text-align: right;\">\n",
              "      <th></th>\n",
              "      <th>english</th>\n",
              "      <th>italian</th>\n",
              "    </tr>\n",
              "  </thead>\n",
              "  <tbody>\n",
              "    <tr>\n",
              "      <th>0</th>\n",
              "      <td>Hi.</td>\n",
              "      <td>Ciao!</td>\n",
              "    </tr>\n",
              "    <tr>\n",
              "      <th>1</th>\n",
              "      <td>Hi.</td>\n",
              "      <td>Ciao.</td>\n",
              "    </tr>\n",
              "    <tr>\n",
              "      <th>2</th>\n",
              "      <td>Run!</td>\n",
              "      <td>Corri!</td>\n",
              "    </tr>\n",
              "    <tr>\n",
              "      <th>3</th>\n",
              "      <td>Run!</td>\n",
              "      <td>Corra!</td>\n",
              "    </tr>\n",
              "    <tr>\n",
              "      <th>4</th>\n",
              "      <td>Run!</td>\n",
              "      <td>Correte!</td>\n",
              "    </tr>\n",
              "  </tbody>\n",
              "</table>\n",
              "</div>\n",
              "      <button class=\"colab-df-convert\" onclick=\"convertToInteractive('df-5db884b5-7b1d-44b2-9c80-d97feb1bcce6')\"\n",
              "              title=\"Convert this dataframe to an interactive table.\"\n",
              "              style=\"display:none;\">\n",
              "        \n",
              "  <svg xmlns=\"http://www.w3.org/2000/svg\" height=\"24px\"viewBox=\"0 0 24 24\"\n",
              "       width=\"24px\">\n",
              "    <path d=\"M0 0h24v24H0V0z\" fill=\"none\"/>\n",
              "    <path d=\"M18.56 5.44l.94 2.06.94-2.06 2.06-.94-2.06-.94-.94-2.06-.94 2.06-2.06.94zm-11 1L8.5 8.5l.94-2.06 2.06-.94-2.06-.94L8.5 2.5l-.94 2.06-2.06.94zm10 10l.94 2.06.94-2.06 2.06-.94-2.06-.94-.94-2.06-.94 2.06-2.06.94z\"/><path d=\"M17.41 7.96l-1.37-1.37c-.4-.4-.92-.59-1.43-.59-.52 0-1.04.2-1.43.59L10.3 9.45l-7.72 7.72c-.78.78-.78 2.05 0 2.83L4 21.41c.39.39.9.59 1.41.59.51 0 1.02-.2 1.41-.59l7.78-7.78 2.81-2.81c.8-.78.8-2.07 0-2.86zM5.41 20L4 18.59l7.72-7.72 1.47 1.35L5.41 20z\"/>\n",
              "  </svg>\n",
              "      </button>\n",
              "      \n",
              "  <style>\n",
              "    .colab-df-container {\n",
              "      display:flex;\n",
              "      flex-wrap:wrap;\n",
              "      gap: 12px;\n",
              "    }\n",
              "\n",
              "    .colab-df-convert {\n",
              "      background-color: #E8F0FE;\n",
              "      border: none;\n",
              "      border-radius: 50%;\n",
              "      cursor: pointer;\n",
              "      display: none;\n",
              "      fill: #1967D2;\n",
              "      height: 32px;\n",
              "      padding: 0 0 0 0;\n",
              "      width: 32px;\n",
              "    }\n",
              "\n",
              "    .colab-df-convert:hover {\n",
              "      background-color: #E2EBFA;\n",
              "      box-shadow: 0px 1px 2px rgba(60, 64, 67, 0.3), 0px 1px 3px 1px rgba(60, 64, 67, 0.15);\n",
              "      fill: #174EA6;\n",
              "    }\n",
              "\n",
              "    [theme=dark] .colab-df-convert {\n",
              "      background-color: #3B4455;\n",
              "      fill: #D2E3FC;\n",
              "    }\n",
              "\n",
              "    [theme=dark] .colab-df-convert:hover {\n",
              "      background-color: #434B5C;\n",
              "      box-shadow: 0px 1px 3px 1px rgba(0, 0, 0, 0.15);\n",
              "      filter: drop-shadow(0px 1px 2px rgba(0, 0, 0, 0.3));\n",
              "      fill: #FFFFFF;\n",
              "    }\n",
              "  </style>\n",
              "\n",
              "      <script>\n",
              "        const buttonEl =\n",
              "          document.querySelector('#df-5db884b5-7b1d-44b2-9c80-d97feb1bcce6 button.colab-df-convert');\n",
              "        buttonEl.style.display =\n",
              "          google.colab.kernel.accessAllowed ? 'block' : 'none';\n",
              "\n",
              "        async function convertToInteractive(key) {\n",
              "          const element = document.querySelector('#df-5db884b5-7b1d-44b2-9c80-d97feb1bcce6');\n",
              "          const dataTable =\n",
              "            await google.colab.kernel.invokeFunction('convertToInteractive',\n",
              "                                                     [key], {});\n",
              "          if (!dataTable) return;\n",
              "\n",
              "          const docLinkHtml = 'Like what you see? Visit the ' +\n",
              "            '<a target=\"_blank\" href=https://colab.research.google.com/notebooks/data_table.ipynb>data table notebook</a>'\n",
              "            + ' to learn more about interactive tables.';\n",
              "          element.innerHTML = '';\n",
              "          dataTable['output_type'] = 'display_data';\n",
              "          await google.colab.output.renderOutput(dataTable, element);\n",
              "          const docLink = document.createElement('div');\n",
              "          docLink.innerHTML = docLinkHtml;\n",
              "          element.appendChild(docLink);\n",
              "        }\n",
              "      </script>\n",
              "    </div>\n",
              "  </div>\n",
              "  "
            ]
          },
          "metadata": {},
          "execution_count": 3
        }
      ],
      "source": [
        "with open('ita.txt', 'r', encoding=\"utf8\") as f:\n",
        "    eng=[]\n",
        "    ita=[]\n",
        "    for i in f.readlines():\n",
        "        eng.append(i.split(\"\\t\")[0])\n",
        "        ita.append(i.split(\"\\t\")[1])\n",
        "data = pd.DataFrame(data=list(zip(eng, ita)), columns=['english','italian'])\n",
        "print(data.shape)\n",
        "data.head()"
      ]
    },
    {
      "cell_type": "markdown",
      "metadata": {
        "id": "vmGWTdRmKRph"
      },
      "source": [
        "<font color='blue'>**Preprocess data**</font>"
      ]
    },
    {
      "cell_type": "code",
      "execution_count": 4,
      "metadata": {
        "colab": {
          "base_uri": "https://localhost:8080/",
          "height": 206
        },
        "id": "9QqElB_nKZos",
        "outputId": "f83d3aec-825d-4d43-a42b-de280f034810"
      },
      "outputs": [
        {
          "output_type": "execute_result",
          "data": {
            "text/plain": [
              "  english  italian\n",
              "0      hi     ciao\n",
              "1      hi     ciao\n",
              "2     run    corri\n",
              "3     run    corra\n",
              "4     run  correte"
            ],
            "text/html": [
              "\n",
              "  <div id=\"df-e3460cbc-01ba-4cc0-8229-39560550b978\">\n",
              "    <div class=\"colab-df-container\">\n",
              "      <div>\n",
              "<style scoped>\n",
              "    .dataframe tbody tr th:only-of-type {\n",
              "        vertical-align: middle;\n",
              "    }\n",
              "\n",
              "    .dataframe tbody tr th {\n",
              "        vertical-align: top;\n",
              "    }\n",
              "\n",
              "    .dataframe thead th {\n",
              "        text-align: right;\n",
              "    }\n",
              "</style>\n",
              "<table border=\"1\" class=\"dataframe\">\n",
              "  <thead>\n",
              "    <tr style=\"text-align: right;\">\n",
              "      <th></th>\n",
              "      <th>english</th>\n",
              "      <th>italian</th>\n",
              "    </tr>\n",
              "  </thead>\n",
              "  <tbody>\n",
              "    <tr>\n",
              "      <th>0</th>\n",
              "      <td>hi</td>\n",
              "      <td>ciao</td>\n",
              "    </tr>\n",
              "    <tr>\n",
              "      <th>1</th>\n",
              "      <td>hi</td>\n",
              "      <td>ciao</td>\n",
              "    </tr>\n",
              "    <tr>\n",
              "      <th>2</th>\n",
              "      <td>run</td>\n",
              "      <td>corri</td>\n",
              "    </tr>\n",
              "    <tr>\n",
              "      <th>3</th>\n",
              "      <td>run</td>\n",
              "      <td>corra</td>\n",
              "    </tr>\n",
              "    <tr>\n",
              "      <th>4</th>\n",
              "      <td>run</td>\n",
              "      <td>correte</td>\n",
              "    </tr>\n",
              "  </tbody>\n",
              "</table>\n",
              "</div>\n",
              "      <button class=\"colab-df-convert\" onclick=\"convertToInteractive('df-e3460cbc-01ba-4cc0-8229-39560550b978')\"\n",
              "              title=\"Convert this dataframe to an interactive table.\"\n",
              "              style=\"display:none;\">\n",
              "        \n",
              "  <svg xmlns=\"http://www.w3.org/2000/svg\" height=\"24px\"viewBox=\"0 0 24 24\"\n",
              "       width=\"24px\">\n",
              "    <path d=\"M0 0h24v24H0V0z\" fill=\"none\"/>\n",
              "    <path d=\"M18.56 5.44l.94 2.06.94-2.06 2.06-.94-2.06-.94-.94-2.06-.94 2.06-2.06.94zm-11 1L8.5 8.5l.94-2.06 2.06-.94-2.06-.94L8.5 2.5l-.94 2.06-2.06.94zm10 10l.94 2.06.94-2.06 2.06-.94-2.06-.94-.94-2.06-.94 2.06-2.06.94z\"/><path d=\"M17.41 7.96l-1.37-1.37c-.4-.4-.92-.59-1.43-.59-.52 0-1.04.2-1.43.59L10.3 9.45l-7.72 7.72c-.78.78-.78 2.05 0 2.83L4 21.41c.39.39.9.59 1.41.59.51 0 1.02-.2 1.41-.59l7.78-7.78 2.81-2.81c.8-.78.8-2.07 0-2.86zM5.41 20L4 18.59l7.72-7.72 1.47 1.35L5.41 20z\"/>\n",
              "  </svg>\n",
              "      </button>\n",
              "      \n",
              "  <style>\n",
              "    .colab-df-container {\n",
              "      display:flex;\n",
              "      flex-wrap:wrap;\n",
              "      gap: 12px;\n",
              "    }\n",
              "\n",
              "    .colab-df-convert {\n",
              "      background-color: #E8F0FE;\n",
              "      border: none;\n",
              "      border-radius: 50%;\n",
              "      cursor: pointer;\n",
              "      display: none;\n",
              "      fill: #1967D2;\n",
              "      height: 32px;\n",
              "      padding: 0 0 0 0;\n",
              "      width: 32px;\n",
              "    }\n",
              "\n",
              "    .colab-df-convert:hover {\n",
              "      background-color: #E2EBFA;\n",
              "      box-shadow: 0px 1px 2px rgba(60, 64, 67, 0.3), 0px 1px 3px 1px rgba(60, 64, 67, 0.15);\n",
              "      fill: #174EA6;\n",
              "    }\n",
              "\n",
              "    [theme=dark] .colab-df-convert {\n",
              "      background-color: #3B4455;\n",
              "      fill: #D2E3FC;\n",
              "    }\n",
              "\n",
              "    [theme=dark] .colab-df-convert:hover {\n",
              "      background-color: #434B5C;\n",
              "      box-shadow: 0px 1px 3px 1px rgba(0, 0, 0, 0.15);\n",
              "      filter: drop-shadow(0px 1px 2px rgba(0, 0, 0, 0.3));\n",
              "      fill: #FFFFFF;\n",
              "    }\n",
              "  </style>\n",
              "\n",
              "      <script>\n",
              "        const buttonEl =\n",
              "          document.querySelector('#df-e3460cbc-01ba-4cc0-8229-39560550b978 button.colab-df-convert');\n",
              "        buttonEl.style.display =\n",
              "          google.colab.kernel.accessAllowed ? 'block' : 'none';\n",
              "\n",
              "        async function convertToInteractive(key) {\n",
              "          const element = document.querySelector('#df-e3460cbc-01ba-4cc0-8229-39560550b978');\n",
              "          const dataTable =\n",
              "            await google.colab.kernel.invokeFunction('convertToInteractive',\n",
              "                                                     [key], {});\n",
              "          if (!dataTable) return;\n",
              "\n",
              "          const docLinkHtml = 'Like what you see? Visit the ' +\n",
              "            '<a target=\"_blank\" href=https://colab.research.google.com/notebooks/data_table.ipynb>data table notebook</a>'\n",
              "            + ' to learn more about interactive tables.';\n",
              "          element.innerHTML = '';\n",
              "          dataTable['output_type'] = 'display_data';\n",
              "          await google.colab.output.renderOutput(dataTable, element);\n",
              "          const docLink = document.createElement('div');\n",
              "          docLink.innerHTML = docLinkHtml;\n",
              "          element.appendChild(docLink);\n",
              "        }\n",
              "      </script>\n",
              "    </div>\n",
              "  </div>\n",
              "  "
            ]
          },
          "metadata": {},
          "execution_count": 4
        }
      ],
      "source": [
        "def decontractions(phrase):\n",
        "    phrase = re.sub(r\"won\\'t\", \"will not\", phrase)\n",
        "    phrase = re.sub(r\"can\\'t\", \"can not\", phrase)\n",
        "    phrase = re.sub(r\"won\\’t\", \"will not\", phrase)\n",
        "    phrase = re.sub(r\"can\\’t\", \"can not\", phrase)\n",
        "\n",
        "    phrase = re.sub(r\"n\\'t\", \" not\", phrase)\n",
        "    phrase = re.sub(r\"\\'re\", \" are\", phrase)\n",
        "    phrase = re.sub(r\"\\'s\", \" is\", phrase)\n",
        "    phrase = re.sub(r\"\\'d\", \" would\", phrase)\n",
        "    phrase = re.sub(r\"\\'ll\", \" will\", phrase)\n",
        "    phrase = re.sub(r\"\\'t\", \" not\", phrase)\n",
        "    phrase = re.sub(r\"\\'ve\", \" have\", phrase)\n",
        "    phrase = re.sub(r\"\\'m\", \" am\", phrase)\n",
        "\n",
        "    phrase = re.sub(r\"n\\’t\", \" not\", phrase)\n",
        "    phrase = re.sub(r\"\\’re\", \" are\", phrase)\n",
        "    phrase = re.sub(r\"\\’s\", \" is\", phrase)\n",
        "    phrase = re.sub(r\"\\’d\", \" would\", phrase)\n",
        "    phrase = re.sub(r\"\\’ll\", \" will\", phrase)\n",
        "    phrase = re.sub(r\"\\’t\", \" not\", phrase)\n",
        "    phrase = re.sub(r\"\\’ve\", \" have\", phrase)\n",
        "    phrase = re.sub(r\"\\’m\", \" am\", phrase)\n",
        "\n",
        "    return phrase\n",
        "\n",
        "def preprocess(text):\n",
        "    text = text.lower()\n",
        "    text = decontractions(text)\n",
        "    text = re.sub('[^A-Za-z0-9 ]+', '', text)\n",
        "    return text\n",
        "\n",
        "def preprocess_ita(text):   \n",
        "    text = text.lower()\n",
        "    text = decontractions(text)\n",
        "    text = re.sub('[$)\\?\"’.°!;\\'€%:,(/]', '', text)\n",
        "    text = re.sub('\\u200b', ' ', text)\n",
        "    text = re.sub('\\xa0', ' ', text)\n",
        "    text = re.sub('-', ' ', text)\n",
        "    return text\n",
        "\n",
        "\n",
        "data['english'] = data['english'].apply(preprocess)\n",
        "data['italian'] = data['italian'].apply(preprocess_ita)\n",
        "data.head()"
      ]
    },
    {
      "cell_type": "code",
      "execution_count": 5,
      "metadata": {
        "colab": {
          "base_uri": "https://localhost:8080/",
          "height": 206
        },
        "id": "2EU46Fj9bsS5",
        "outputId": "5ce89510-f731-4177-8bd5-bb3d3e6866cf"
      },
      "outputs": [
        {
          "output_type": "execute_result",
          "data": {
            "text/plain": [
              "  english  italian\n",
              "0      hi     ciao\n",
              "1     run    corri\n",
              "2     run    corra\n",
              "3     run  correte\n",
              "4     who      chi"
            ],
            "text/html": [
              "\n",
              "  <div id=\"df-ea55ad85-65aa-43fb-806a-d7c9cef1cd6d\">\n",
              "    <div class=\"colab-df-container\">\n",
              "      <div>\n",
              "<style scoped>\n",
              "    .dataframe tbody tr th:only-of-type {\n",
              "        vertical-align: middle;\n",
              "    }\n",
              "\n",
              "    .dataframe tbody tr th {\n",
              "        vertical-align: top;\n",
              "    }\n",
              "\n",
              "    .dataframe thead th {\n",
              "        text-align: right;\n",
              "    }\n",
              "</style>\n",
              "<table border=\"1\" class=\"dataframe\">\n",
              "  <thead>\n",
              "    <tr style=\"text-align: right;\">\n",
              "      <th></th>\n",
              "      <th>english</th>\n",
              "      <th>italian</th>\n",
              "    </tr>\n",
              "  </thead>\n",
              "  <tbody>\n",
              "    <tr>\n",
              "      <th>0</th>\n",
              "      <td>hi</td>\n",
              "      <td>ciao</td>\n",
              "    </tr>\n",
              "    <tr>\n",
              "      <th>1</th>\n",
              "      <td>run</td>\n",
              "      <td>corri</td>\n",
              "    </tr>\n",
              "    <tr>\n",
              "      <th>2</th>\n",
              "      <td>run</td>\n",
              "      <td>corra</td>\n",
              "    </tr>\n",
              "    <tr>\n",
              "      <th>3</th>\n",
              "      <td>run</td>\n",
              "      <td>correte</td>\n",
              "    </tr>\n",
              "    <tr>\n",
              "      <th>4</th>\n",
              "      <td>who</td>\n",
              "      <td>chi</td>\n",
              "    </tr>\n",
              "  </tbody>\n",
              "</table>\n",
              "</div>\n",
              "      <button class=\"colab-df-convert\" onclick=\"convertToInteractive('df-ea55ad85-65aa-43fb-806a-d7c9cef1cd6d')\"\n",
              "              title=\"Convert this dataframe to an interactive table.\"\n",
              "              style=\"display:none;\">\n",
              "        \n",
              "  <svg xmlns=\"http://www.w3.org/2000/svg\" height=\"24px\"viewBox=\"0 0 24 24\"\n",
              "       width=\"24px\">\n",
              "    <path d=\"M0 0h24v24H0V0z\" fill=\"none\"/>\n",
              "    <path d=\"M18.56 5.44l.94 2.06.94-2.06 2.06-.94-2.06-.94-.94-2.06-.94 2.06-2.06.94zm-11 1L8.5 8.5l.94-2.06 2.06-.94-2.06-.94L8.5 2.5l-.94 2.06-2.06.94zm10 10l.94 2.06.94-2.06 2.06-.94-2.06-.94-.94-2.06-.94 2.06-2.06.94z\"/><path d=\"M17.41 7.96l-1.37-1.37c-.4-.4-.92-.59-1.43-.59-.52 0-1.04.2-1.43.59L10.3 9.45l-7.72 7.72c-.78.78-.78 2.05 0 2.83L4 21.41c.39.39.9.59 1.41.59.51 0 1.02-.2 1.41-.59l7.78-7.78 2.81-2.81c.8-.78.8-2.07 0-2.86zM5.41 20L4 18.59l7.72-7.72 1.47 1.35L5.41 20z\"/>\n",
              "  </svg>\n",
              "      </button>\n",
              "      \n",
              "  <style>\n",
              "    .colab-df-container {\n",
              "      display:flex;\n",
              "      flex-wrap:wrap;\n",
              "      gap: 12px;\n",
              "    }\n",
              "\n",
              "    .colab-df-convert {\n",
              "      background-color: #E8F0FE;\n",
              "      border: none;\n",
              "      border-radius: 50%;\n",
              "      cursor: pointer;\n",
              "      display: none;\n",
              "      fill: #1967D2;\n",
              "      height: 32px;\n",
              "      padding: 0 0 0 0;\n",
              "      width: 32px;\n",
              "    }\n",
              "\n",
              "    .colab-df-convert:hover {\n",
              "      background-color: #E2EBFA;\n",
              "      box-shadow: 0px 1px 2px rgba(60, 64, 67, 0.3), 0px 1px 3px 1px rgba(60, 64, 67, 0.15);\n",
              "      fill: #174EA6;\n",
              "    }\n",
              "\n",
              "    [theme=dark] .colab-df-convert {\n",
              "      background-color: #3B4455;\n",
              "      fill: #D2E3FC;\n",
              "    }\n",
              "\n",
              "    [theme=dark] .colab-df-convert:hover {\n",
              "      background-color: #434B5C;\n",
              "      box-shadow: 0px 1px 3px 1px rgba(0, 0, 0, 0.15);\n",
              "      filter: drop-shadow(0px 1px 2px rgba(0, 0, 0, 0.3));\n",
              "      fill: #FFFFFF;\n",
              "    }\n",
              "  </style>\n",
              "\n",
              "      <script>\n",
              "        const buttonEl =\n",
              "          document.querySelector('#df-ea55ad85-65aa-43fb-806a-d7c9cef1cd6d button.colab-df-convert');\n",
              "        buttonEl.style.display =\n",
              "          google.colab.kernel.accessAllowed ? 'block' : 'none';\n",
              "\n",
              "        async function convertToInteractive(key) {\n",
              "          const element = document.querySelector('#df-ea55ad85-65aa-43fb-806a-d7c9cef1cd6d');\n",
              "          const dataTable =\n",
              "            await google.colab.kernel.invokeFunction('convertToInteractive',\n",
              "                                                     [key], {});\n",
              "          if (!dataTable) return;\n",
              "\n",
              "          const docLinkHtml = 'Like what you see? Visit the ' +\n",
              "            '<a target=\"_blank\" href=https://colab.research.google.com/notebooks/data_table.ipynb>data table notebook</a>'\n",
              "            + ' to learn more about interactive tables.';\n",
              "          element.innerHTML = '';\n",
              "          dataTable['output_type'] = 'display_data';\n",
              "          await google.colab.output.renderOutput(dataTable, element);\n",
              "          const docLink = document.createElement('div');\n",
              "          docLink.innerHTML = docLinkHtml;\n",
              "          element.appendChild(docLink);\n",
              "        }\n",
              "      </script>\n",
              "    </div>\n",
              "  </div>\n",
              "  "
            ]
          },
          "metadata": {},
          "execution_count": 5
        }
      ],
      "source": [
        "data = data.drop_duplicates(subset=['english','italian'])\n",
        "data = data.reset_index(drop=True)\n",
        "data.head()"
      ]
    },
    {
      "cell_type": "code",
      "execution_count": 6,
      "metadata": {
        "colab": {
          "base_uri": "https://localhost:8080/"
        },
        "id": "Db9WyoAVxjBd",
        "outputId": "fb2a606a-77a7-4b9a-8a80-489361687944"
      },
      "outputs": [
        {
          "output_type": "stream",
          "name": "stdout",
          "text": [
            "0 1.0\n",
            "10 3.0\n",
            "20 4.0\n",
            "30 4.0\n",
            "40 5.0\n",
            "50 5.0\n",
            "60 6.0\n",
            "70 6.0\n",
            "80 7.0\n",
            "90 8.0\n",
            "100 92.0\n",
            "90 8.0\n",
            "91 8.0\n",
            "92 8.0\n",
            "93 9.0\n",
            "94 9.0\n",
            "95 9.0\n",
            "96 10.0\n",
            "97 10.0\n",
            "98 11.0\n",
            "99 12.0\n",
            "100 92.0\n",
            "99.1 12.0\n",
            "99.2 12.0\n",
            "99.3 13.0\n",
            "99.4 13.0\n",
            "99.5 13.0\n",
            "99.6 14.0\n",
            "99.7 15.0\n",
            "99.8 16.0\n",
            "99.9 22.0\n",
            "100 92.0\n"
          ]
        }
      ],
      "source": [
        "ita_lengths = data['italian'].str.split().apply(len)\n",
        "eng_lengths = data['english'].str.split().apply(len)\n",
        "for i in range(0,101,10):\n",
        "    print(i,np.percentile(ita_lengths, i))\n",
        "for i in range(90,101):\n",
        "    print(i,np.percentile(ita_lengths, i))\n",
        "for i in [99.1,99.2,99.3,99.4,99.5,99.6,99.7,99.8,99.9,100]:\n",
        "    print(i,np.percentile(ita_lengths, i))"
      ]
    },
    {
      "cell_type": "code",
      "execution_count": 7,
      "metadata": {
        "colab": {
          "base_uri": "https://localhost:8080/"
        },
        "id": "uvBNJbcdbsS7",
        "outputId": "2d9e4310-eed0-42b8-c4d6-c4e31b302783"
      },
      "outputs": [
        {
          "output_type": "stream",
          "name": "stdout",
          "text": [
            "0 1.0\n",
            "10 4.0\n",
            "20 4.0\n",
            "30 5.0\n",
            "40 5.0\n",
            "50 6.0\n",
            "60 6.0\n",
            "70 7.0\n",
            "80 7.0\n",
            "90 8.0\n",
            "100 101.0\n",
            "90 8.0\n",
            "91 9.0\n",
            "92 9.0\n",
            "93 9.0\n",
            "94 9.0\n",
            "95 9.0\n",
            "96 10.0\n",
            "97 10.0\n",
            "98 11.0\n",
            "99 12.0\n",
            "100 101.0\n",
            "99.1 12.0\n",
            "99.2 13.0\n",
            "99.3 13.0\n",
            "99.4 13.0\n",
            "99.5 14.0\n",
            "99.6 14.0\n",
            "99.7 15.0\n",
            "99.8 16.0\n",
            "99.9 25.0\n",
            "100 101.0\n"
          ]
        }
      ],
      "source": [
        "for i in range(0,101,10):\n",
        "    print(i,np.percentile(eng_lengths, i))\n",
        "for i in range(90,101):\n",
        "    print(i,np.percentile(eng_lengths, i))\n",
        "for i in [99.1,99.2,99.3,99.4,99.5,99.6,99.7,99.8,99.9,100]:\n",
        "    print(i,np.percentile(eng_lengths, i))"
      ]
    },
    {
      "cell_type": "code",
      "execution_count": 8,
      "metadata": {
        "colab": {
          "base_uri": "https://localhost:8080/",
          "height": 206
        },
        "id": "eJvTS7yRxjBe",
        "outputId": "bc94d60e-35ec-4f65-f4b0-a8ad12a049f9"
      },
      "outputs": [
        {
          "output_type": "execute_result",
          "data": {
            "text/plain": [
              "                 italian  english_inp english_out\n",
              "0     <start> ciao <end>   <start> hi    hi <end>\n",
              "1    <start> corri <end>  <start> run   run <end>\n",
              "2    <start> corra <end>  <start> run   run <end>\n",
              "3  <start> correte <end>  <start> run   run <end>\n",
              "4      <start> chi <end>  <start> who   who <end>"
            ],
            "text/html": [
              "\n",
              "  <div id=\"df-6b519df9-f387-4610-978d-3e729d66692f\">\n",
              "    <div class=\"colab-df-container\">\n",
              "      <div>\n",
              "<style scoped>\n",
              "    .dataframe tbody tr th:only-of-type {\n",
              "        vertical-align: middle;\n",
              "    }\n",
              "\n",
              "    .dataframe tbody tr th {\n",
              "        vertical-align: top;\n",
              "    }\n",
              "\n",
              "    .dataframe thead th {\n",
              "        text-align: right;\n",
              "    }\n",
              "</style>\n",
              "<table border=\"1\" class=\"dataframe\">\n",
              "  <thead>\n",
              "    <tr style=\"text-align: right;\">\n",
              "      <th></th>\n",
              "      <th>italian</th>\n",
              "      <th>english_inp</th>\n",
              "      <th>english_out</th>\n",
              "    </tr>\n",
              "  </thead>\n",
              "  <tbody>\n",
              "    <tr>\n",
              "      <th>0</th>\n",
              "      <td>&lt;start&gt; ciao &lt;end&gt;</td>\n",
              "      <td>&lt;start&gt; hi</td>\n",
              "      <td>hi &lt;end&gt;</td>\n",
              "    </tr>\n",
              "    <tr>\n",
              "      <th>1</th>\n",
              "      <td>&lt;start&gt; corri &lt;end&gt;</td>\n",
              "      <td>&lt;start&gt; run</td>\n",
              "      <td>run &lt;end&gt;</td>\n",
              "    </tr>\n",
              "    <tr>\n",
              "      <th>2</th>\n",
              "      <td>&lt;start&gt; corra &lt;end&gt;</td>\n",
              "      <td>&lt;start&gt; run</td>\n",
              "      <td>run &lt;end&gt;</td>\n",
              "    </tr>\n",
              "    <tr>\n",
              "      <th>3</th>\n",
              "      <td>&lt;start&gt; correte &lt;end&gt;</td>\n",
              "      <td>&lt;start&gt; run</td>\n",
              "      <td>run &lt;end&gt;</td>\n",
              "    </tr>\n",
              "    <tr>\n",
              "      <th>4</th>\n",
              "      <td>&lt;start&gt; chi &lt;end&gt;</td>\n",
              "      <td>&lt;start&gt; who</td>\n",
              "      <td>who &lt;end&gt;</td>\n",
              "    </tr>\n",
              "  </tbody>\n",
              "</table>\n",
              "</div>\n",
              "      <button class=\"colab-df-convert\" onclick=\"convertToInteractive('df-6b519df9-f387-4610-978d-3e729d66692f')\"\n",
              "              title=\"Convert this dataframe to an interactive table.\"\n",
              "              style=\"display:none;\">\n",
              "        \n",
              "  <svg xmlns=\"http://www.w3.org/2000/svg\" height=\"24px\"viewBox=\"0 0 24 24\"\n",
              "       width=\"24px\">\n",
              "    <path d=\"M0 0h24v24H0V0z\" fill=\"none\"/>\n",
              "    <path d=\"M18.56 5.44l.94 2.06.94-2.06 2.06-.94-2.06-.94-.94-2.06-.94 2.06-2.06.94zm-11 1L8.5 8.5l.94-2.06 2.06-.94-2.06-.94L8.5 2.5l-.94 2.06-2.06.94zm10 10l.94 2.06.94-2.06 2.06-.94-2.06-.94-.94-2.06-.94 2.06-2.06.94z\"/><path d=\"M17.41 7.96l-1.37-1.37c-.4-.4-.92-.59-1.43-.59-.52 0-1.04.2-1.43.59L10.3 9.45l-7.72 7.72c-.78.78-.78 2.05 0 2.83L4 21.41c.39.39.9.59 1.41.59.51 0 1.02-.2 1.41-.59l7.78-7.78 2.81-2.81c.8-.78.8-2.07 0-2.86zM5.41 20L4 18.59l7.72-7.72 1.47 1.35L5.41 20z\"/>\n",
              "  </svg>\n",
              "      </button>\n",
              "      \n",
              "  <style>\n",
              "    .colab-df-container {\n",
              "      display:flex;\n",
              "      flex-wrap:wrap;\n",
              "      gap: 12px;\n",
              "    }\n",
              "\n",
              "    .colab-df-convert {\n",
              "      background-color: #E8F0FE;\n",
              "      border: none;\n",
              "      border-radius: 50%;\n",
              "      cursor: pointer;\n",
              "      display: none;\n",
              "      fill: #1967D2;\n",
              "      height: 32px;\n",
              "      padding: 0 0 0 0;\n",
              "      width: 32px;\n",
              "    }\n",
              "\n",
              "    .colab-df-convert:hover {\n",
              "      background-color: #E2EBFA;\n",
              "      box-shadow: 0px 1px 2px rgba(60, 64, 67, 0.3), 0px 1px 3px 1px rgba(60, 64, 67, 0.15);\n",
              "      fill: #174EA6;\n",
              "    }\n",
              "\n",
              "    [theme=dark] .colab-df-convert {\n",
              "      background-color: #3B4455;\n",
              "      fill: #D2E3FC;\n",
              "    }\n",
              "\n",
              "    [theme=dark] .colab-df-convert:hover {\n",
              "      background-color: #434B5C;\n",
              "      box-shadow: 0px 1px 3px 1px rgba(0, 0, 0, 0.15);\n",
              "      filter: drop-shadow(0px 1px 2px rgba(0, 0, 0, 0.3));\n",
              "      fill: #FFFFFF;\n",
              "    }\n",
              "  </style>\n",
              "\n",
              "      <script>\n",
              "        const buttonEl =\n",
              "          document.querySelector('#df-6b519df9-f387-4610-978d-3e729d66692f button.colab-df-convert');\n",
              "        buttonEl.style.display =\n",
              "          google.colab.kernel.accessAllowed ? 'block' : 'none';\n",
              "\n",
              "        async function convertToInteractive(key) {\n",
              "          const element = document.querySelector('#df-6b519df9-f387-4610-978d-3e729d66692f');\n",
              "          const dataTable =\n",
              "            await google.colab.kernel.invokeFunction('convertToInteractive',\n",
              "                                                     [key], {});\n",
              "          if (!dataTable) return;\n",
              "\n",
              "          const docLinkHtml = 'Like what you see? Visit the ' +\n",
              "            '<a target=\"_blank\" href=https://colab.research.google.com/notebooks/data_table.ipynb>data table notebook</a>'\n",
              "            + ' to learn more about interactive tables.';\n",
              "          element.innerHTML = '';\n",
              "          dataTable['output_type'] = 'display_data';\n",
              "          await google.colab.output.renderOutput(dataTable, element);\n",
              "          const docLink = document.createElement('div');\n",
              "          docLink.innerHTML = docLinkHtml;\n",
              "          element.appendChild(docLink);\n",
              "        }\n",
              "      </script>\n",
              "    </div>\n",
              "  </div>\n",
              "  "
            ]
          },
          "metadata": {},
          "execution_count": 8
        }
      ],
      "source": [
        "data['italian_len'] = data['italian'].str.split().apply(len)\n",
        "data = data[data['italian_len'] < 25]\n",
        "\n",
        "data['english_len'] = data['english'].str.split().apply(len)\n",
        "data = data[data['english_len'] < 25]\n",
        "\n",
        "data['english_inp'] = '<start> ' + data['english'].astype(str)\n",
        "data['english_out'] = data['english'].astype(str) + ' <end>'\n",
        "data['italian'] = '<start> ' + data['italian'].astype(str) + ' <end>'\n",
        "\n",
        "data = data.drop(['english','italian_len','english_len'], axis=1)\n",
        "data.head()"
      ]
    },
    {
      "cell_type": "code",
      "execution_count": 9,
      "metadata": {
        "colab": {
          "base_uri": "https://localhost:8080/",
          "height": 363
        },
        "id": "OI3asSlgxjBe",
        "outputId": "b5d685bc-2ec3-4114-95f2-f797ca66c2b1"
      },
      "outputs": [
        {
          "output_type": "execute_result",
          "data": {
            "text/plain": [
              "                                                  italian  \\\n",
              "90967                 <start> tom non è incredibile <end>   \n",
              "161151                        <start> amavi cantare <end>   \n",
              "140917  <start> tom si sta esercitando con il piano <end>   \n",
              "149751       <start> ho odiato vedere tom andarsene <end>   \n",
              "339017  <start> mary dice che ha bisogno di trovare qu...   \n",
              "149758               <start> io ho un libro in mano <end>   \n",
              "330195  <start> è successo un terribile incidente in s...   \n",
              "30000                       <start> tom è dei pesci <end>   \n",
              "18978                          <start> vi amo tutti <end>   \n",
              "127432                   <start> beh come si chiama <end>   \n",
              "\n",
              "                                              english_inp  \\\n",
              "90967                       <start> is not tom incredible   \n",
              "161151                   <start> you used to love singing   \n",
              "140917                    <start> tom is practicing piano   \n",
              "149751                   <start> i hated to see tom leave   \n",
              "339017  <start> mary says she needs to find someone to...   \n",
              "149758                   <start> i have a book in my hand   \n",
              "330195  <start> a terrible accident happened in his ab...   \n",
              "30000                             <start> tom is a pisces   \n",
              "18978                              <start> i love you all   \n",
              "127432                     <start> well what is it called   \n",
              "\n",
              "                                              english_out  \n",
              "90967                         is not tom incredible <end>  \n",
              "161151                     you used to love singing <end>  \n",
              "140917                      tom is practicing piano <end>  \n",
              "149751                     i hated to see tom leave <end>  \n",
              "339017  mary says she needs to find someone to help to...  \n",
              "149758                     i have a book in my hand <end>  \n",
              "330195  a terrible accident happened in his absence <end>  \n",
              "30000                               tom is a pisces <end>  \n",
              "18978                                i love you all <end>  \n",
              "127432                       well what is it called <end>  "
            ],
            "text/html": [
              "\n",
              "  <div id=\"df-2434a853-3634-4617-8eb6-2397bc8426ab\">\n",
              "    <div class=\"colab-df-container\">\n",
              "      <div>\n",
              "<style scoped>\n",
              "    .dataframe tbody tr th:only-of-type {\n",
              "        vertical-align: middle;\n",
              "    }\n",
              "\n",
              "    .dataframe tbody tr th {\n",
              "        vertical-align: top;\n",
              "    }\n",
              "\n",
              "    .dataframe thead th {\n",
              "        text-align: right;\n",
              "    }\n",
              "</style>\n",
              "<table border=\"1\" class=\"dataframe\">\n",
              "  <thead>\n",
              "    <tr style=\"text-align: right;\">\n",
              "      <th></th>\n",
              "      <th>italian</th>\n",
              "      <th>english_inp</th>\n",
              "      <th>english_out</th>\n",
              "    </tr>\n",
              "  </thead>\n",
              "  <tbody>\n",
              "    <tr>\n",
              "      <th>90967</th>\n",
              "      <td>&lt;start&gt; tom non è incredibile &lt;end&gt;</td>\n",
              "      <td>&lt;start&gt; is not tom incredible</td>\n",
              "      <td>is not tom incredible &lt;end&gt;</td>\n",
              "    </tr>\n",
              "    <tr>\n",
              "      <th>161151</th>\n",
              "      <td>&lt;start&gt; amavi cantare &lt;end&gt;</td>\n",
              "      <td>&lt;start&gt; you used to love singing</td>\n",
              "      <td>you used to love singing &lt;end&gt;</td>\n",
              "    </tr>\n",
              "    <tr>\n",
              "      <th>140917</th>\n",
              "      <td>&lt;start&gt; tom si sta esercitando con il piano &lt;end&gt;</td>\n",
              "      <td>&lt;start&gt; tom is practicing piano</td>\n",
              "      <td>tom is practicing piano &lt;end&gt;</td>\n",
              "    </tr>\n",
              "    <tr>\n",
              "      <th>149751</th>\n",
              "      <td>&lt;start&gt; ho odiato vedere tom andarsene &lt;end&gt;</td>\n",
              "      <td>&lt;start&gt; i hated to see tom leave</td>\n",
              "      <td>i hated to see tom leave &lt;end&gt;</td>\n",
              "    </tr>\n",
              "    <tr>\n",
              "      <th>339017</th>\n",
              "      <td>&lt;start&gt; mary dice che ha bisogno di trovare qu...</td>\n",
              "      <td>&lt;start&gt; mary says she needs to find someone to...</td>\n",
              "      <td>mary says she needs to find someone to help to...</td>\n",
              "    </tr>\n",
              "    <tr>\n",
              "      <th>149758</th>\n",
              "      <td>&lt;start&gt; io ho un libro in mano &lt;end&gt;</td>\n",
              "      <td>&lt;start&gt; i have a book in my hand</td>\n",
              "      <td>i have a book in my hand &lt;end&gt;</td>\n",
              "    </tr>\n",
              "    <tr>\n",
              "      <th>330195</th>\n",
              "      <td>&lt;start&gt; è successo un terribile incidente in s...</td>\n",
              "      <td>&lt;start&gt; a terrible accident happened in his ab...</td>\n",
              "      <td>a terrible accident happened in his absence &lt;end&gt;</td>\n",
              "    </tr>\n",
              "    <tr>\n",
              "      <th>30000</th>\n",
              "      <td>&lt;start&gt; tom è dei pesci &lt;end&gt;</td>\n",
              "      <td>&lt;start&gt; tom is a pisces</td>\n",
              "      <td>tom is a pisces &lt;end&gt;</td>\n",
              "    </tr>\n",
              "    <tr>\n",
              "      <th>18978</th>\n",
              "      <td>&lt;start&gt; vi amo tutti &lt;end&gt;</td>\n",
              "      <td>&lt;start&gt; i love you all</td>\n",
              "      <td>i love you all &lt;end&gt;</td>\n",
              "    </tr>\n",
              "    <tr>\n",
              "      <th>127432</th>\n",
              "      <td>&lt;start&gt; beh come si chiama &lt;end&gt;</td>\n",
              "      <td>&lt;start&gt; well what is it called</td>\n",
              "      <td>well what is it called &lt;end&gt;</td>\n",
              "    </tr>\n",
              "  </tbody>\n",
              "</table>\n",
              "</div>\n",
              "      <button class=\"colab-df-convert\" onclick=\"convertToInteractive('df-2434a853-3634-4617-8eb6-2397bc8426ab')\"\n",
              "              title=\"Convert this dataframe to an interactive table.\"\n",
              "              style=\"display:none;\">\n",
              "        \n",
              "  <svg xmlns=\"http://www.w3.org/2000/svg\" height=\"24px\"viewBox=\"0 0 24 24\"\n",
              "       width=\"24px\">\n",
              "    <path d=\"M0 0h24v24H0V0z\" fill=\"none\"/>\n",
              "    <path d=\"M18.56 5.44l.94 2.06.94-2.06 2.06-.94-2.06-.94-.94-2.06-.94 2.06-2.06.94zm-11 1L8.5 8.5l.94-2.06 2.06-.94-2.06-.94L8.5 2.5l-.94 2.06-2.06.94zm10 10l.94 2.06.94-2.06 2.06-.94-2.06-.94-.94-2.06-.94 2.06-2.06.94z\"/><path d=\"M17.41 7.96l-1.37-1.37c-.4-.4-.92-.59-1.43-.59-.52 0-1.04.2-1.43.59L10.3 9.45l-7.72 7.72c-.78.78-.78 2.05 0 2.83L4 21.41c.39.39.9.59 1.41.59.51 0 1.02-.2 1.41-.59l7.78-7.78 2.81-2.81c.8-.78.8-2.07 0-2.86zM5.41 20L4 18.59l7.72-7.72 1.47 1.35L5.41 20z\"/>\n",
              "  </svg>\n",
              "      </button>\n",
              "      \n",
              "  <style>\n",
              "    .colab-df-container {\n",
              "      display:flex;\n",
              "      flex-wrap:wrap;\n",
              "      gap: 12px;\n",
              "    }\n",
              "\n",
              "    .colab-df-convert {\n",
              "      background-color: #E8F0FE;\n",
              "      border: none;\n",
              "      border-radius: 50%;\n",
              "      cursor: pointer;\n",
              "      display: none;\n",
              "      fill: #1967D2;\n",
              "      height: 32px;\n",
              "      padding: 0 0 0 0;\n",
              "      width: 32px;\n",
              "    }\n",
              "\n",
              "    .colab-df-convert:hover {\n",
              "      background-color: #E2EBFA;\n",
              "      box-shadow: 0px 1px 2px rgba(60, 64, 67, 0.3), 0px 1px 3px 1px rgba(60, 64, 67, 0.15);\n",
              "      fill: #174EA6;\n",
              "    }\n",
              "\n",
              "    [theme=dark] .colab-df-convert {\n",
              "      background-color: #3B4455;\n",
              "      fill: #D2E3FC;\n",
              "    }\n",
              "\n",
              "    [theme=dark] .colab-df-convert:hover {\n",
              "      background-color: #434B5C;\n",
              "      box-shadow: 0px 1px 3px 1px rgba(0, 0, 0, 0.15);\n",
              "      filter: drop-shadow(0px 1px 2px rgba(0, 0, 0, 0.3));\n",
              "      fill: #FFFFFF;\n",
              "    }\n",
              "  </style>\n",
              "\n",
              "      <script>\n",
              "        const buttonEl =\n",
              "          document.querySelector('#df-2434a853-3634-4617-8eb6-2397bc8426ab button.colab-df-convert');\n",
              "        buttonEl.style.display =\n",
              "          google.colab.kernel.accessAllowed ? 'block' : 'none';\n",
              "\n",
              "        async function convertToInteractive(key) {\n",
              "          const element = document.querySelector('#df-2434a853-3634-4617-8eb6-2397bc8426ab');\n",
              "          const dataTable =\n",
              "            await google.colab.kernel.invokeFunction('convertToInteractive',\n",
              "                                                     [key], {});\n",
              "          if (!dataTable) return;\n",
              "\n",
              "          const docLinkHtml = 'Like what you see? Visit the ' +\n",
              "            '<a target=\"_blank\" href=https://colab.research.google.com/notebooks/data_table.ipynb>data table notebook</a>'\n",
              "            + ' to learn more about interactive tables.';\n",
              "          element.innerHTML = '';\n",
              "          dataTable['output_type'] = 'display_data';\n",
              "          await google.colab.output.renderOutput(dataTable, element);\n",
              "          const docLink = document.createElement('div');\n",
              "          docLink.innerHTML = docLinkHtml;\n",
              "          element.appendChild(docLink);\n",
              "        }\n",
              "      </script>\n",
              "    </div>\n",
              "  </div>\n",
              "  "
            ]
          },
          "metadata": {},
          "execution_count": 9
        }
      ],
      "source": [
        "data.sample(10)"
      ]
    },
    {
      "cell_type": "markdown",
      "source": [
        "> <font color=\"blue\"><b>If we observe the values, 99.9% of the data points are having length &lt; 20, so select the sentences that have words &lt; 20 </b> </font>\n",
        "<br>\n",
        "<br>\n",
        "> <font color=\"green\"><b>Inorder to do the teacher forcing while training of seq-seq models, lets create two new columns, one with  &lt;start&gt; token at begining of the sentence and other column with &lt;end&gt; token at the end of the sequence</b></font>"
      ],
      "metadata": {
        "id": "5mIZf0DMUwiZ"
      }
    },
    {
      "cell_type": "code",
      "execution_count": 10,
      "metadata": {
        "id": "ta5Sp1BBbsS8"
      },
      "outputs": [],
      "source": [
        "from sklearn.model_selection import train_test_split\n",
        "train, validation = train_test_split(data, test_size=0.2)"
      ]
    },
    {
      "cell_type": "code",
      "execution_count": 11,
      "metadata": {
        "colab": {
          "base_uri": "https://localhost:8080/"
        },
        "id": "42D1ATugbsS-",
        "outputId": "8788da0c-f973-4bf6-f724-833dff6363a8"
      },
      "outputs": [
        {
          "output_type": "stream",
          "name": "stdout",
          "text": [
            "(279976, 3) (69995, 3)\n"
          ]
        }
      ],
      "source": [
        "print(train.shape, validation.shape)\n",
        "train.iloc[0]['english_inp']= str(train.iloc[0]['english_inp'])+' <end>'\n",
        "train.iloc[0]['english_out']= str(train.iloc[0]['english_out'])+' <end>'"
      ]
    },
    {
      "cell_type": "markdown",
      "metadata": {
        "id": "0rS9VxctbsS_"
      },
      "source": [
        "### Teacher Forcing\n",
        "<pre>\n",
        "Let us consider the example data point\n",
        "\n",
        "italian: erano occupate\t\n",
        "english_inp: &lt;start> they were busy\t\n",
        "                |     |     |    |\n",
        "english_out:  they   were busy &lt;end>\n",
        "\n",
        "if you observe the sentences, the start token is getting mapped to the first word in your english sentence, the first word is mapped to 2nd word, the 2nd word mapped to 3rd word and so on, finall the last one will is mapped to end token. i.e i the word will be mapped to i+1th word.\n",
        "\n",
        "As we will be passing \"english_inp\" as an input to the decoder and the outputs(predictions) of the decoder will be compared against the \"english_out\" \n",
        "\n",
        "with this way of mapping, we can ensure that the model will predict the next word and calculate the loss accordingly.\n",
        "\n",
        "</pre>"
      ]
    },
    {
      "cell_type": "markdown",
      "metadata": {
        "id": "i5zgWtqpbsTA"
      },
      "source": [
        "### Getting train and test "
      ]
    },
    {
      "cell_type": "code",
      "execution_count": 12,
      "metadata": {
        "id": "sWCMIoiIbsTC",
        "colab": {
          "base_uri": "https://localhost:8080/",
          "height": 206
        },
        "outputId": "d8b4665b-6a6f-4855-c88c-3d91870a37cc"
      },
      "outputs": [
        {
          "output_type": "execute_result",
          "data": {
            "text/plain": [
              "                                               italian  \\\n",
              "148362              <start> è ingordo e spietato <end>   \n",
              "103998  <start> ti suggerisco di andare ad ovest <end>   \n",
              "47300      <start> io spero che loro la facciano <end>   \n",
              "156719            <start> tom è un po un codardo <end>   \n",
              "106301                   <start> è davvero bella <end>   \n",
              "\n",
              "                                    english_inp  \\\n",
              "148362  <start> he is greedy and ruthless <end>   \n",
              "103998            <start> i suggest you go west   \n",
              "47300                 <start> i hope they do it   \n",
              "156719         <start> tom is a bit of a coward   \n",
              "106301           <start> it is really beautiful   \n",
              "\n",
              "                                  english_out  \n",
              "148362  he is greedy and ruthless <end> <end>  \n",
              "103998            i suggest you go west <end>  \n",
              "47300                 i hope they do it <end>  \n",
              "156719         tom is a bit of a coward <end>  \n",
              "106301           it is really beautiful <end>  "
            ],
            "text/html": [
              "\n",
              "  <div id=\"df-3ea500a7-6769-4f0b-a9b6-d003b0c23e5b\">\n",
              "    <div class=\"colab-df-container\">\n",
              "      <div>\n",
              "<style scoped>\n",
              "    .dataframe tbody tr th:only-of-type {\n",
              "        vertical-align: middle;\n",
              "    }\n",
              "\n",
              "    .dataframe tbody tr th {\n",
              "        vertical-align: top;\n",
              "    }\n",
              "\n",
              "    .dataframe thead th {\n",
              "        text-align: right;\n",
              "    }\n",
              "</style>\n",
              "<table border=\"1\" class=\"dataframe\">\n",
              "  <thead>\n",
              "    <tr style=\"text-align: right;\">\n",
              "      <th></th>\n",
              "      <th>italian</th>\n",
              "      <th>english_inp</th>\n",
              "      <th>english_out</th>\n",
              "    </tr>\n",
              "  </thead>\n",
              "  <tbody>\n",
              "    <tr>\n",
              "      <th>148362</th>\n",
              "      <td>&lt;start&gt; è ingordo e spietato &lt;end&gt;</td>\n",
              "      <td>&lt;start&gt; he is greedy and ruthless &lt;end&gt;</td>\n",
              "      <td>he is greedy and ruthless &lt;end&gt; &lt;end&gt;</td>\n",
              "    </tr>\n",
              "    <tr>\n",
              "      <th>103998</th>\n",
              "      <td>&lt;start&gt; ti suggerisco di andare ad ovest &lt;end&gt;</td>\n",
              "      <td>&lt;start&gt; i suggest you go west</td>\n",
              "      <td>i suggest you go west &lt;end&gt;</td>\n",
              "    </tr>\n",
              "    <tr>\n",
              "      <th>47300</th>\n",
              "      <td>&lt;start&gt; io spero che loro la facciano &lt;end&gt;</td>\n",
              "      <td>&lt;start&gt; i hope they do it</td>\n",
              "      <td>i hope they do it &lt;end&gt;</td>\n",
              "    </tr>\n",
              "    <tr>\n",
              "      <th>156719</th>\n",
              "      <td>&lt;start&gt; tom è un po un codardo &lt;end&gt;</td>\n",
              "      <td>&lt;start&gt; tom is a bit of a coward</td>\n",
              "      <td>tom is a bit of a coward &lt;end&gt;</td>\n",
              "    </tr>\n",
              "    <tr>\n",
              "      <th>106301</th>\n",
              "      <td>&lt;start&gt; è davvero bella &lt;end&gt;</td>\n",
              "      <td>&lt;start&gt; it is really beautiful</td>\n",
              "      <td>it is really beautiful &lt;end&gt;</td>\n",
              "    </tr>\n",
              "  </tbody>\n",
              "</table>\n",
              "</div>\n",
              "      <button class=\"colab-df-convert\" onclick=\"convertToInteractive('df-3ea500a7-6769-4f0b-a9b6-d003b0c23e5b')\"\n",
              "              title=\"Convert this dataframe to an interactive table.\"\n",
              "              style=\"display:none;\">\n",
              "        \n",
              "  <svg xmlns=\"http://www.w3.org/2000/svg\" height=\"24px\"viewBox=\"0 0 24 24\"\n",
              "       width=\"24px\">\n",
              "    <path d=\"M0 0h24v24H0V0z\" fill=\"none\"/>\n",
              "    <path d=\"M18.56 5.44l.94 2.06.94-2.06 2.06-.94-2.06-.94-.94-2.06-.94 2.06-2.06.94zm-11 1L8.5 8.5l.94-2.06 2.06-.94-2.06-.94L8.5 2.5l-.94 2.06-2.06.94zm10 10l.94 2.06.94-2.06 2.06-.94-2.06-.94-.94-2.06-.94 2.06-2.06.94z\"/><path d=\"M17.41 7.96l-1.37-1.37c-.4-.4-.92-.59-1.43-.59-.52 0-1.04.2-1.43.59L10.3 9.45l-7.72 7.72c-.78.78-.78 2.05 0 2.83L4 21.41c.39.39.9.59 1.41.59.51 0 1.02-.2 1.41-.59l7.78-7.78 2.81-2.81c.8-.78.8-2.07 0-2.86zM5.41 20L4 18.59l7.72-7.72 1.47 1.35L5.41 20z\"/>\n",
              "  </svg>\n",
              "      </button>\n",
              "      \n",
              "  <style>\n",
              "    .colab-df-container {\n",
              "      display:flex;\n",
              "      flex-wrap:wrap;\n",
              "      gap: 12px;\n",
              "    }\n",
              "\n",
              "    .colab-df-convert {\n",
              "      background-color: #E8F0FE;\n",
              "      border: none;\n",
              "      border-radius: 50%;\n",
              "      cursor: pointer;\n",
              "      display: none;\n",
              "      fill: #1967D2;\n",
              "      height: 32px;\n",
              "      padding: 0 0 0 0;\n",
              "      width: 32px;\n",
              "    }\n",
              "\n",
              "    .colab-df-convert:hover {\n",
              "      background-color: #E2EBFA;\n",
              "      box-shadow: 0px 1px 2px rgba(60, 64, 67, 0.3), 0px 1px 3px 1px rgba(60, 64, 67, 0.15);\n",
              "      fill: #174EA6;\n",
              "    }\n",
              "\n",
              "    [theme=dark] .colab-df-convert {\n",
              "      background-color: #3B4455;\n",
              "      fill: #D2E3FC;\n",
              "    }\n",
              "\n",
              "    [theme=dark] .colab-df-convert:hover {\n",
              "      background-color: #434B5C;\n",
              "      box-shadow: 0px 1px 3px 1px rgba(0, 0, 0, 0.15);\n",
              "      filter: drop-shadow(0px 1px 2px rgba(0, 0, 0, 0.3));\n",
              "      fill: #FFFFFF;\n",
              "    }\n",
              "  </style>\n",
              "\n",
              "      <script>\n",
              "        const buttonEl =\n",
              "          document.querySelector('#df-3ea500a7-6769-4f0b-a9b6-d003b0c23e5b button.colab-df-convert');\n",
              "        buttonEl.style.display =\n",
              "          google.colab.kernel.accessAllowed ? 'block' : 'none';\n",
              "\n",
              "        async function convertToInteractive(key) {\n",
              "          const element = document.querySelector('#df-3ea500a7-6769-4f0b-a9b6-d003b0c23e5b');\n",
              "          const dataTable =\n",
              "            await google.colab.kernel.invokeFunction('convertToInteractive',\n",
              "                                                     [key], {});\n",
              "          if (!dataTable) return;\n",
              "\n",
              "          const docLinkHtml = 'Like what you see? Visit the ' +\n",
              "            '<a target=\"_blank\" href=https://colab.research.google.com/notebooks/data_table.ipynb>data table notebook</a>'\n",
              "            + ' to learn more about interactive tables.';\n",
              "          element.innerHTML = '';\n",
              "          dataTable['output_type'] = 'display_data';\n",
              "          await google.colab.output.renderOutput(dataTable, element);\n",
              "          const docLink = document.createElement('div');\n",
              "          docLink.innerHTML = docLinkHtml;\n",
              "          element.appendChild(docLink);\n",
              "        }\n",
              "      </script>\n",
              "    </div>\n",
              "  </div>\n",
              "  "
            ]
          },
          "metadata": {},
          "execution_count": 12
        }
      ],
      "source": [
        "train.head()"
      ]
    },
    {
      "cell_type": "code",
      "execution_count": 13,
      "metadata": {
        "colab": {
          "base_uri": "https://localhost:8080/",
          "height": 206
        },
        "id": "0LjMPl8PbsTD",
        "outputId": "a71ee355-df69-4434-b1ca-c9840cb29467"
      },
      "outputs": [
        {
          "output_type": "execute_result",
          "data": {
            "text/plain": [
              "                                                  italian  \\\n",
              "310422  <start> chi è la sua musicista canadese prefer...   \n",
              "334046  <start> ci sono molti bei posti in giappone <end>   \n",
              "178513                <start> non andare là da solo <end>   \n",
              "77827                    <start> si tolga le scarpe <end>   \n",
              "79949      <start> tom semplicemente non si fermerà <end>   \n",
              "\n",
              "                                              english_inp  \\\n",
              "310422     <start> who is your favorite canadian musician   \n",
              "334046  <start> there are a lot of beautiful places in...   \n",
              "178513                <start> do not go there by yourself   \n",
              "77827                         <start> take off your shoes   \n",
              "79949                      <start> tom just will not stop   \n",
              "\n",
              "                                              english_out  \n",
              "310422       who is your favorite canadian musician <end>  \n",
              "334046  there are a lot of beautiful places in japan <...  \n",
              "178513                  do not go there by yourself <end>  \n",
              "77827                           take off your shoes <end>  \n",
              "79949                        tom just will not stop <end>  "
            ],
            "text/html": [
              "\n",
              "  <div id=\"df-56be6f4d-19a2-42d8-9296-df3a4098d3b0\">\n",
              "    <div class=\"colab-df-container\">\n",
              "      <div>\n",
              "<style scoped>\n",
              "    .dataframe tbody tr th:only-of-type {\n",
              "        vertical-align: middle;\n",
              "    }\n",
              "\n",
              "    .dataframe tbody tr th {\n",
              "        vertical-align: top;\n",
              "    }\n",
              "\n",
              "    .dataframe thead th {\n",
              "        text-align: right;\n",
              "    }\n",
              "</style>\n",
              "<table border=\"1\" class=\"dataframe\">\n",
              "  <thead>\n",
              "    <tr style=\"text-align: right;\">\n",
              "      <th></th>\n",
              "      <th>italian</th>\n",
              "      <th>english_inp</th>\n",
              "      <th>english_out</th>\n",
              "    </tr>\n",
              "  </thead>\n",
              "  <tbody>\n",
              "    <tr>\n",
              "      <th>310422</th>\n",
              "      <td>&lt;start&gt; chi è la sua musicista canadese prefer...</td>\n",
              "      <td>&lt;start&gt; who is your favorite canadian musician</td>\n",
              "      <td>who is your favorite canadian musician &lt;end&gt;</td>\n",
              "    </tr>\n",
              "    <tr>\n",
              "      <th>334046</th>\n",
              "      <td>&lt;start&gt; ci sono molti bei posti in giappone &lt;end&gt;</td>\n",
              "      <td>&lt;start&gt; there are a lot of beautiful places in...</td>\n",
              "      <td>there are a lot of beautiful places in japan &lt;...</td>\n",
              "    </tr>\n",
              "    <tr>\n",
              "      <th>178513</th>\n",
              "      <td>&lt;start&gt; non andare là da solo &lt;end&gt;</td>\n",
              "      <td>&lt;start&gt; do not go there by yourself</td>\n",
              "      <td>do not go there by yourself &lt;end&gt;</td>\n",
              "    </tr>\n",
              "    <tr>\n",
              "      <th>77827</th>\n",
              "      <td>&lt;start&gt; si tolga le scarpe &lt;end&gt;</td>\n",
              "      <td>&lt;start&gt; take off your shoes</td>\n",
              "      <td>take off your shoes &lt;end&gt;</td>\n",
              "    </tr>\n",
              "    <tr>\n",
              "      <th>79949</th>\n",
              "      <td>&lt;start&gt; tom semplicemente non si fermerà &lt;end&gt;</td>\n",
              "      <td>&lt;start&gt; tom just will not stop</td>\n",
              "      <td>tom just will not stop &lt;end&gt;</td>\n",
              "    </tr>\n",
              "  </tbody>\n",
              "</table>\n",
              "</div>\n",
              "      <button class=\"colab-df-convert\" onclick=\"convertToInteractive('df-56be6f4d-19a2-42d8-9296-df3a4098d3b0')\"\n",
              "              title=\"Convert this dataframe to an interactive table.\"\n",
              "              style=\"display:none;\">\n",
              "        \n",
              "  <svg xmlns=\"http://www.w3.org/2000/svg\" height=\"24px\"viewBox=\"0 0 24 24\"\n",
              "       width=\"24px\">\n",
              "    <path d=\"M0 0h24v24H0V0z\" fill=\"none\"/>\n",
              "    <path d=\"M18.56 5.44l.94 2.06.94-2.06 2.06-.94-2.06-.94-.94-2.06-.94 2.06-2.06.94zm-11 1L8.5 8.5l.94-2.06 2.06-.94-2.06-.94L8.5 2.5l-.94 2.06-2.06.94zm10 10l.94 2.06.94-2.06 2.06-.94-2.06-.94-.94-2.06-.94 2.06-2.06.94z\"/><path d=\"M17.41 7.96l-1.37-1.37c-.4-.4-.92-.59-1.43-.59-.52 0-1.04.2-1.43.59L10.3 9.45l-7.72 7.72c-.78.78-.78 2.05 0 2.83L4 21.41c.39.39.9.59 1.41.59.51 0 1.02-.2 1.41-.59l7.78-7.78 2.81-2.81c.8-.78.8-2.07 0-2.86zM5.41 20L4 18.59l7.72-7.72 1.47 1.35L5.41 20z\"/>\n",
              "  </svg>\n",
              "      </button>\n",
              "      \n",
              "  <style>\n",
              "    .colab-df-container {\n",
              "      display:flex;\n",
              "      flex-wrap:wrap;\n",
              "      gap: 12px;\n",
              "    }\n",
              "\n",
              "    .colab-df-convert {\n",
              "      background-color: #E8F0FE;\n",
              "      border: none;\n",
              "      border-radius: 50%;\n",
              "      cursor: pointer;\n",
              "      display: none;\n",
              "      fill: #1967D2;\n",
              "      height: 32px;\n",
              "      padding: 0 0 0 0;\n",
              "      width: 32px;\n",
              "    }\n",
              "\n",
              "    .colab-df-convert:hover {\n",
              "      background-color: #E2EBFA;\n",
              "      box-shadow: 0px 1px 2px rgba(60, 64, 67, 0.3), 0px 1px 3px 1px rgba(60, 64, 67, 0.15);\n",
              "      fill: #174EA6;\n",
              "    }\n",
              "\n",
              "    [theme=dark] .colab-df-convert {\n",
              "      background-color: #3B4455;\n",
              "      fill: #D2E3FC;\n",
              "    }\n",
              "\n",
              "    [theme=dark] .colab-df-convert:hover {\n",
              "      background-color: #434B5C;\n",
              "      box-shadow: 0px 1px 3px 1px rgba(0, 0, 0, 0.15);\n",
              "      filter: drop-shadow(0px 1px 2px rgba(0, 0, 0, 0.3));\n",
              "      fill: #FFFFFF;\n",
              "    }\n",
              "  </style>\n",
              "\n",
              "      <script>\n",
              "        const buttonEl =\n",
              "          document.querySelector('#df-56be6f4d-19a2-42d8-9296-df3a4098d3b0 button.colab-df-convert');\n",
              "        buttonEl.style.display =\n",
              "          google.colab.kernel.accessAllowed ? 'block' : 'none';\n",
              "\n",
              "        async function convertToInteractive(key) {\n",
              "          const element = document.querySelector('#df-56be6f4d-19a2-42d8-9296-df3a4098d3b0');\n",
              "          const dataTable =\n",
              "            await google.colab.kernel.invokeFunction('convertToInteractive',\n",
              "                                                     [key], {});\n",
              "          if (!dataTable) return;\n",
              "\n",
              "          const docLinkHtml = 'Like what you see? Visit the ' +\n",
              "            '<a target=\"_blank\" href=https://colab.research.google.com/notebooks/data_table.ipynb>data table notebook</a>'\n",
              "            + ' to learn more about interactive tables.';\n",
              "          element.innerHTML = '';\n",
              "          dataTable['output_type'] = 'display_data';\n",
              "          await google.colab.output.renderOutput(dataTable, element);\n",
              "          const docLink = document.createElement('div');\n",
              "          docLink.innerHTML = docLinkHtml;\n",
              "          element.appendChild(docLink);\n",
              "        }\n",
              "      </script>\n",
              "    </div>\n",
              "  </div>\n",
              "  "
            ]
          },
          "metadata": {},
          "execution_count": 13
        }
      ],
      "source": [
        "validation.head()"
      ]
    },
    {
      "cell_type": "code",
      "execution_count": null,
      "metadata": {
        "colab": {
          "base_uri": "https://localhost:8080/",
          "height": 542
        },
        "id": "WEdaDf8tbsTV",
        "outputId": "9dc9eb0d-564e-4cdd-af60-cd4b1e9ea739"
      },
      "outputs": [
        {
          "output_type": "display_data",
          "data": {
            "text/plain": [
              "<Figure size 432x288 with 1 Axes>"
            ],
            "image/png": "[encoded data removed]"
          },
          "metadata": {
            "needs_background": "light"
          }
        },
        {
          "output_type": "display_data",
          "data": {
            "text/plain": [
              "<Figure size 432x288 with 1 Axes>"
            ],
            "image/png": "[encoded data removed]"
          },
          "metadata": {
            "needs_background": "light"
          }
        }
      ],
      "source": [
        "ita_lengths = train['italian'].str.split().apply(len)\n",
        "eng_lengths = train['english_inp'].str.split().apply(len)\n",
        "import seaborn as sns\n",
        "sns.kdeplot(ita_lengths)\n",
        "plt.show()\n",
        "sns.kdeplot(eng_lengths)\n",
        "plt.show()"
      ]
    },
    {
      "cell_type": "code",
      "execution_count": null,
      "metadata": {
        "id": "3qs4i-U6xjBh"
      },
      "outputs": [],
      "source": [
        ""
      ]
    },
    {
      "cell_type": "markdown",
      "metadata": {
        "id": "F4AjjK99bsTW"
      },
      "source": [
        "### Creating Tokenizer on the train data and learning vocabulary"
      ]
    },
    {
      "cell_type": "markdown",
      "metadata": {
        "id": "4kluOSMvbsTX"
      },
      "source": [
        "> Note that we are fitting the tokenizer only on train data and check the filters for english, we need to remove symbols &lt; and &gt;"
      ]
    },
    {
      "cell_type": "code",
      "execution_count": 14,
      "metadata": {
        "id": "tr79OCbUbsTZ"
      },
      "outputs": [],
      "source": [
        "tknizer_ita = Tokenizer(filters='!\"#$%&()*+,-./:;=?@[\\\\]^_`{|}~\\t\\n')\n",
        "tknizer_ita.fit_on_texts(train['italian'].values)\n",
        "tknizer_eng = Tokenizer(filters='!\"#$%&()*+,-./:;=?@[\\\\]^_`{|}~\\t\\n')\n",
        "tknizer_eng.fit_on_texts(train['english_inp'].values)"
      ]
    },
    {
      "cell_type": "code",
      "execution_count": 15,
      "metadata": {
        "colab": {
          "base_uri": "https://localhost:8080/"
        },
        "id": "BVvPV13ebsTa",
        "outputId": "36c65d56-6d67-4a24-a3da-d21f425b5695"
      },
      "outputs": [
        {
          "output_type": "stream",
          "name": "stdout",
          "text": [
            "13041\n",
            "26675\n"
          ]
        }
      ],
      "source": [
        "vocab_size_eng=len(tknizer_eng.word_index.keys())\n",
        "print(vocab_size_eng)\n",
        "vocab_size_ita=len(tknizer_ita.word_index.keys())\n",
        "print(vocab_size_ita)"
      ]
    },
    {
      "cell_type": "code",
      "execution_count": 16,
      "metadata": {
        "colab": {
          "base_uri": "https://localhost:8080/"
        },
        "id": "ai2wzEcpbsTc",
        "outputId": "fb751bf1-2e70-4d36-f37b-507c50793acc"
      },
      "outputs": [
        {
          "output_type": "execute_result",
          "data": {
            "text/plain": [
              "(1, 10300)"
            ]
          },
          "metadata": {},
          "execution_count": 16
        }
      ],
      "source": [
        "tknizer_eng.word_index['<start>'], tknizer_eng.word_index['<end>']"
      ]
    },
    {
      "cell_type": "markdown",
      "metadata": {
        "id": "S8RDrP4xKabR"
      },
      "source": [
        "## <font color='blue'>**Implement custom encoder decoder**</font>"
      ]
    },
    {
      "cell_type": "markdown",
      "metadata": {
        "id": "A45uc0JILMlV"
      },
      "source": [
        "<font color='blue'>**Encoder**</font>"
      ]
    },
    {
      "cell_type": "code",
      "execution_count": null,
      "metadata": {
        "id": "WFeTRDzibsTh"
      },
      "outputs": [],
      "source": [
        "class Encoder(tf.keras.Model):\n",
        "\n",
        "    def __init__(self,vocab_size,embedding_size,lstm_size,input_length):\n",
        "        super().__init__()\n",
        "        self.vocab_size = vocab_size\n",
        "        self.embedding_size = embedding_size\n",
        "        self.input_length = input_length\n",
        "        self.lstm_size= lstm_size\n",
        "        self.lstm_output = 0\n",
        "        self.lstm_state_h=0\n",
        "        self.lstm_state_c=0\n",
        "\n",
        "\n",
        "    def build(self,input_shape):\n",
        "        self.embedding = Embedding(input_dim=self.vocab_size, output_dim=self.embedding_size, input_length=self.input_length,\n",
        "                           mask_zero=True, name=\"embedding_layer_encoder\")\n",
        "        self.lstm = LSTM(self.lstm_size, return_state=True, return_sequences=True, name=\"Encoder_LSTM\")\n",
        "    \n",
        "    def call(self,input_sequence,states):\n",
        "        input_embedd = self.embedding(input_sequence)\n",
        "        self.lstm_output, self.lstm_state_h,self.lstm_state_c = self.lstm(input_embedd,initial_state=states)\n",
        "        return self.lstm_output, self.lstm_state_h,self.lstm_state_c\n",
        "        \n",
        "    \n",
        "    def initialize_states(self,batch_size):\n",
        "        initial_state_h=tf.zeros([batch_size,self.lstm_size],dtype=tf.dtypes.float32)\n",
        "        initial_state_c=tf.zeros([batch_size,self.lstm_size],dtype=tf.dtypes.float32)\n",
        "        return [initial_state_h , initial_state_c]\n",
        "\n",
        "      \n"
      ]
    },
    {
      "cell_type": "markdown",
      "metadata": {
        "id": "EtbOI3VwLOe0"
      },
      "source": [
        "<font color='orange'>**Grader function - 1**</font>"
      ]
    },
    {
      "cell_type": "code",
      "execution_count": null,
      "metadata": {
        "id": "ziSqOgmhLOe1",
        "outputId": "491f2c79-28a8-4711-c443-0ece8c8a3c05",
        "colab": {
          "base_uri": "https://localhost:8080/"
        }
      },
      "outputs": [
        {
          "output_type": "stream",
          "name": "stdout",
          "text": [
            "True\n"
          ]
        }
      ],
      "source": [
        "def grader_check_encoder():\n",
        "    '''\n",
        "        vocab-size: Unique words of the input language,\n",
        "        embedding_size: output embedding dimension for each word after embedding layer,\n",
        "        lstm_size: Number of lstm units,\n",
        "        input_length: Length of the input sentence,\n",
        "        batch_size\n",
        "    '''\n",
        "    vocab_size=10\n",
        "    embedding_size=20\n",
        "    lstm_size=32\n",
        "    input_length=10\n",
        "    batch_size=16\n",
        "    #Intialzing encoder \n",
        "    encoder=Encoder(vocab_size,embedding_size,lstm_size,input_length)\n",
        "    input_sequence=tf.random.uniform(shape=[batch_size,input_length],maxval=vocab_size,minval=0,dtype=tf.int32)\n",
        "    #Intializing encoder initial states\n",
        "    initial_state=encoder.initialize_states(batch_size)\n",
        "    \n",
        "    encoder_output,state_h,state_c=encoder(input_sequence,initial_state)\n",
        "    \n",
        "    assert(encoder_output.shape==(batch_size,input_length,lstm_size) and state_h.shape==(batch_size,lstm_size)\n",
        "           and state_c.shape==(batch_size,lstm_size))\n",
        "    return True\n",
        "print(grader_check_encoder())"
      ]
    },
    {
      "cell_type": "code",
      "execution_count": null,
      "metadata": {
        "id": "x1ES1-sJLOe4"
      },
      "outputs": [],
      "source": [
        "class Decoder(tf.keras.Model):\n",
        "    def __init__(self,vocab_size,embedding_size,lstm_size,input_length):\n",
        "        super().__init__()\n",
        "        self.vocab_size = vocab_size\n",
        "        self.embedding_size = embedding_size\n",
        "        self.lstm_size = lstm_size\n",
        "        self.input_length = input_length\n",
        "        self.embedding = Embedding(input_dim=self.vocab_size, output_dim=self.embedding_size, input_length=self.input_length,\n",
        "                           mask_zero=True, name=\"embedding_layer_decoder\")\n",
        "        self.lstm = LSTM(self.lstm_size, return_sequences=True, return_state=True, name=\"Encoder_LSTM\")\n",
        "        \n",
        "\n",
        "\n",
        "    def call(self,input_sequence,initial_states):\n",
        "        target_embedd = self.embedding(input_sequence)\n",
        "        decoder_output, decoder_final_state_h,decoder_final_state_c = self.lstm(target_embedd, initial_state=initial_states)\n",
        "        return decoder_output,decoder_final_state_h,decoder_final_state_c\n",
        "\n"
      ]
    },
    {
      "cell_type": "markdown",
      "metadata": {
        "id": "Hq-I0SUbLOe8"
      },
      "source": [
        "<font color='orange'>**Grader function - 2**</font>"
      ]
    },
    {
      "cell_type": "code",
      "execution_count": null,
      "metadata": {
        "id": "0B0gokgKLOe8",
        "outputId": "e74de737-660c-4644-bc8c-f1185ec7b6cd",
        "colab": {
          "base_uri": "https://localhost:8080/"
        }
      },
      "outputs": [
        {
          "output_type": "stream",
          "name": "stdout",
          "text": [
            "True\n"
          ]
        }
      ],
      "source": [
        "def grader_decoder():\n",
        "    '''\n",
        "        out_vocab_size: Unique words of the target language,\n",
        "        embedding_size: output embedding dimension for each word after embedding layer,\n",
        "        dec_units: Number of lstm units in decoder,\n",
        "        input_length: Length of the input sentence,\n",
        "        batch_size\n",
        "        \n",
        "    \n",
        "    '''\n",
        "    out_vocab_size=13 \n",
        "    embedding_dim=12 \n",
        "    input_length=10\n",
        "    dec_units=16 \n",
        "    batch_size=32\n",
        "    \n",
        "    target_sentences=tf.random.uniform(shape=(batch_size,input_length),maxval=10,minval=0,dtype=tf.int32)\n",
        "    encoder_output=tf.random.uniform(shape=[batch_size,input_length,dec_units])\n",
        "    state_h=tf.random.uniform(shape=[batch_size,dec_units])\n",
        "    state_c=tf.random.uniform(shape=[batch_size,dec_units])\n",
        "    states=[state_h,state_c]\n",
        "    decoder=Decoder(out_vocab_size, embedding_dim, dec_units,input_length )\n",
        "    output,_,_=decoder(target_sentences, states)\n",
        "    assert(output.shape==(batch_size,input_length,dec_units))\n",
        "    return True\n",
        "print(grader_decoder())\n"
      ]
    },
    {
      "cell_type": "markdown",
      "metadata": {
        "id": "CTFOY1B-bsUI"
      },
      "source": [
        "### Creating data pipeline"
      ]
    },
    {
      "cell_type": "code",
      "execution_count": null,
      "metadata": {
        "id": "tYWcFUy5bsUJ"
      },
      "outputs": [],
      "source": [
        "class Dataset:\n",
        "    def __init__(self, data, tknizer_ita, tknizer_eng, max_len):\n",
        "        self.encoder_inps = data['italian'].values\n",
        "        self.decoder_inps = data['english_inp'].values\n",
        "        self.decoder_outs = data['english_out'].values\n",
        "        self.tknizer_eng = tknizer_eng\n",
        "        self.tknizer_ita = tknizer_ita\n",
        "        self.max_len = max_len\n",
        "\n",
        "    def __getitem__(self, i):\n",
        "        self.encoder_seq = self.tknizer_ita.texts_to_sequences([self.encoder_inps[i]]) # need to pass list of values\n",
        "        self.decoder_inp_seq = self.tknizer_eng.texts_to_sequences([self.decoder_inps[i]])\n",
        "        self.decoder_out_seq = self.tknizer_eng.texts_to_sequences([self.decoder_outs[i]])\n",
        "\n",
        "        self.encoder_seq = pad_sequences(self.encoder_seq, maxlen=self.max_len, dtype='int32', padding='post')\n",
        "        self.decoder_inp_seq = pad_sequences(self.decoder_inp_seq, maxlen=self.max_len+1, dtype='int32', padding='post')\n",
        "        self.decoder_out_seq = pad_sequences(self.decoder_out_seq, maxlen=self.max_len+1, dtype='int32', padding='post')\n",
        "        return self.encoder_seq, self.decoder_inp_seq, self.decoder_out_seq\n",
        "\n",
        "    def __len__(self): # your model.fit_gen requires this function\n",
        "        return len(self.encoder_inps)\n",
        "\n",
        "    \n",
        "class Dataloder(tf.keras.utils.Sequence):    \n",
        "    def __init__(self, dataset, batch_size=1):\n",
        "        self.dataset = dataset\n",
        "        self.batch_size = batch_size\n",
        "        self.indexes = np.arange(len(self.dataset.encoder_inps))\n",
        "\n",
        "\n",
        "    def __getitem__(self, i):\n",
        "        start = i * self.batch_size\n",
        "        stop = (i + 1) * self.batch_size\n",
        "        data = []\n",
        "        for j in range(start, stop):\n",
        "            data.append(self.dataset[j])\n",
        "\n",
        "        batch = [np.squeeze(np.stack(samples, axis=1), axis=0) for samples in zip(*data)]\n",
        "        return tuple([[batch[0],batch[1]],batch[2]])\n",
        "\n",
        "    def __len__(self):\n",
        "        return len(self.indexes) // self.batch_size\n",
        "\n",
        "    def on_epoch_end(self):\n",
        "        self.indexes = np.random.permutation(self.indexes)"
      ]
    },
    {
      "cell_type": "code",
      "execution_count": null,
      "metadata": {
        "colab": {
          "base_uri": "https://localhost:8080/"
        },
        "id": "PoVRGj3jbsUK",
        "outputId": "b614f26e-8c77-4028-9522-f5baff9583b1"
      },
      "outputs": [
        {
          "output_type": "stream",
          "name": "stdout",
          "text": [
            "(512, 25) (512, 26) (512, 26)\n"
          ]
        }
      ],
      "source": [
        "train_dataset = Dataset(train, tknizer_ita, tknizer_eng, 20)\n",
        "batch_size = 512\n",
        "train_dataset = Dataset(train, tknizer_ita, tknizer_eng, 25)\n",
        "validation_dataset  = Dataset(validation, tknizer_ita, tknizer_eng, 25)\n",
        "\n",
        "train_dataloader = Dataloder(train_dataset, batch_size=batch_size)\n",
        "validation_dataloader = Dataloder(validation_dataset, batch_size=batch_size)\n",
        "\n",
        "\n",
        "print(train_dataloader[0][0][0].shape, train_dataloader[0][0][1].shape, train_dataloader[0][1].shape)"
      ]
    },
    {
      "cell_type": "code",
      "execution_count": null,
      "metadata": {
        "id": "BXrIj4scLOe_"
      },
      "outputs": [],
      "source": [
        "class Encoder_decoder(tf.keras.Model):\n",
        "    \n",
        "    def __init__(self,encoder_inputs_length,decoder_inputs_length, output_vocab_size):\n",
        "        super().__init__()\n",
        "        self.encoder = Encoder(vocab_size=vocab_size_ita+1, embedding_size=50, input_length=encoder_inputs_length, lstm_size=256)\n",
        "        self.decoder = Decoder(vocab_size=vocab_size_eng+1, embedding_size=100, input_length=decoder_inputs_length, lstm_size=256)\n",
        "        self.dense = Dense(output_vocab_size, activation='softmax')\n",
        "        \n",
        "        \n",
        "    def call(self, data):\n",
        "        encoder_output, encoder_h, encoder_c = self.encoder(data[0],self.encoder.initialize_states(batch_size))\n",
        "        decoder_output, decoder_h, decoder_c = self.decoder(data[1], [encoder_h, encoder_c])\n",
        "        output = self.dense(decoder_output)\n",
        "        return output"
      ]
    },
    {
      "cell_type": "code",
      "execution_count": null,
      "metadata": {
        "id": "5B0doY-oxjBk"
      },
      "outputs": [],
      "source": [
        "log_dir = \"logs/fit/\" + datetime.datetime.now().strftime(\"%Y%m%d-%H%M%S\")\n",
        "tensorboard_callback = tf.keras.callbacks.TensorBoard(log_dir=log_dir, histogram_freq=1)"
      ]
    },
    {
      "cell_type": "code",
      "execution_count": null,
      "metadata": {
        "id": "H7jsJ0t7xjBk"
      },
      "outputs": [],
      "source": [
        "#Create an object of encoder_decoder Model class, \n",
        "# Compile the model and fit the model\n",
        "model_Encoder_decoder = Encoder_decoder(25,26,vocab_size_eng)\n",
        "optimizer = tf.keras.optimizers.Adam()\n",
        "model_Encoder_decoder.compile(optimizer=optimizer,loss='sparse_categorical_crossentropy')\n",
        "train_steps=train.shape[0]//batch_size\n",
        "valid_steps=validation.shape[0]//batch_size"
      ]
    },
    {
      "cell_type": "code",
      "execution_count": null,
      "metadata": {
        "id": "kcL61dJXLOfB",
        "outputId": "f124237f-27d6-40a6-fc07-d3d77b87ef3f",
        "colab": {
          "base_uri": "https://localhost:8080/"
        }
      },
      "outputs": [
        {
          "output_type": "stream",
          "name": "stdout",
          "text": [
            "Epoch 1/20\n",
            "546/546 [==============================] - 164s 281ms/step - loss: 1.2792 - val_loss: 1.0546\n",
            "Epoch 2/20\n",
            "546/546 [==============================] - 151s 277ms/step - loss: 0.9421 - val_loss: 0.8513\n",
            "Epoch 3/20\n",
            "546/546 [==============================] - 149s 272ms/step - loss: 0.7820 - val_loss: 0.7193\n",
            "Epoch 4/20\n",
            "546/546 [==============================] - 153s 280ms/step - loss: 0.6605 - val_loss: 0.6196\n",
            "Epoch 5/20\n",
            "546/546 [==============================] - 148s 272ms/step - loss: 0.5621 - val_loss: 0.5353\n",
            "Epoch 6/20\n",
            "546/546 [==============================] - 148s 272ms/step - loss: 0.4768 - val_loss: 0.4653\n",
            "Epoch 7/20\n",
            "546/546 [==============================] - 148s 272ms/step - loss: 0.4053 - val_loss: 0.4056\n",
            "Epoch 8/20\n",
            "546/546 [==============================] - 148s 272ms/step - loss: 0.3459 - val_loss: 0.3603\n",
            "Epoch 9/20\n",
            "546/546 [==============================] - 148s 272ms/step - loss: 0.2969 - val_loss: 0.3221\n",
            "Epoch 10/20\n",
            "546/546 [==============================] - 148s 271ms/step - loss: 0.2570 - val_loss: 0.2926\n",
            "Epoch 11/20\n",
            "546/546 [==============================] - 148s 271ms/step - loss: 0.2247 - val_loss: 0.2696\n",
            "Epoch 12/20\n",
            "546/546 [==============================] - 148s 271ms/step - loss: 0.1983 - val_loss: 0.2521\n",
            "Epoch 13/20\n",
            "546/546 [==============================] - 151s 276ms/step - loss: 0.1764 - val_loss: 0.2360\n",
            "Epoch 14/20\n",
            "546/546 [==============================] - 152s 278ms/step - loss: 0.1584 - val_loss: 0.2240\n",
            "Epoch 15/20\n",
            "546/546 [==============================] - 149s 273ms/step - loss: 0.1432 - val_loss: 0.2134\n",
            "Epoch 16/20\n",
            "546/546 [==============================] - 148s 271ms/step - loss: 0.1300 - val_loss: 0.2058\n",
            "Epoch 17/20\n",
            "546/546 [==============================] - 148s 272ms/step - loss: 0.1188 - val_loss: 0.1989\n",
            "Epoch 18/20\n",
            "546/546 [==============================] - 148s 271ms/step - loss: 0.1092 - val_loss: 0.1943\n",
            "Epoch 19/20\n",
            "546/546 [==============================] - 148s 271ms/step - loss: 0.1007 - val_loss: 0.1894\n",
            "Epoch 20/20\n",
            "546/546 [==============================] - 148s 271ms/step - loss: 0.0932 - val_loss: 0.1845\n"
          ]
        },
        {
          "output_type": "execute_result",
          "data": {
            "text/plain": [
              "<keras.callbacks.History at 0x7f993c919410>"
            ]
          },
          "metadata": {},
          "execution_count": 26
        }
      ],
      "source": [
        "\n",
        "model_Encoder_decoder.fit(train_dataloader,\n",
        "                     steps_per_epoch=train_steps,\n",
        "                     epochs=20,\n",
        "                     validation_data=validation_dataloader,\n",
        "                     validation_steps=valid_steps,\n",
        "                     callbacks=[tensorboard_callback],\n",
        "                     verbose=1)\n"
      ]
    },
    {
      "cell_type": "code",
      "execution_count": null,
      "metadata": {
        "id": "qJVJ_owkxjBl",
        "outputId": "59f6e2ed-81e9-4947-a2b5-037f641d5965",
        "colab": {
          "base_uri": "https://localhost:8080/"
        }
      },
      "outputs": [
        {
          "output_type": "stream",
          "name": "stdout",
          "text": [
            "Model: \"encoder_decoder\"\n",
            "_________________________________________________________________\n",
            " Layer (type)                Output Shape              Param #   \n",
            "=================================================================\n",
            " encoder_1 (Encoder)         multiple                  1650218   \n",
            "                                                                 \n",
            " decoder_1 (Decoder)         multiple                  1677468   \n",
            "                                                                 \n",
            " dense (Dense)               multiple                  3371326   \n",
            "                                                                 \n",
            "=================================================================\n",
            "Total params: 6,699,012\n",
            "Trainable params: 6,699,012\n",
            "Non-trainable params: 0\n",
            "_________________________________________________________________\n"
          ]
        }
      ],
      "source": [
        "model_Encoder_decoder.summary()"
      ]
    },
    {
      "cell_type": "code",
      "execution_count": null,
      "metadata": {
        "id": "SkARSlZgLOfE"
      },
      "outputs": [],
      "source": [
        "def predict(input_sentence):\n",
        "    tokens = tknizer_ita.texts_to_sequences(np.expand_dims(input_sentence,0))\n",
        "    enc_output, enc_state_h, enc_state_c = model_Encoder_decoder.layers[0](np.array(tokens),states=None)\n",
        "    states_values = [enc_state_h, enc_state_c]\n",
        "    pred = []\n",
        "    cur_vec = np.zeros((1, 1))\n",
        "    for i in range(26):\n",
        "        cur_emb = model_Encoder_decoder.layers[1].embedding(cur_vec)\n",
        "        infe_output, state_h, state_c = model_Encoder_decoder.layers[1].lstm(cur_emb, initial_state=states_values)\n",
        "        infe_output=model_Encoder_decoder.layers[2](infe_output)\n",
        "        states_values = [state_h, state_c]\n",
        "        cur_vec = np.reshape(np.argmax(infe_output), (1, 1))\n",
        "        pred.append(cur_vec)\n",
        "        \n",
        "    return(pred)"
      ]
    },
    {
      "cell_type": "code",
      "execution_count": null,
      "metadata": {
        "id": "Vw83x2vpbsUP",
        "outputId": "24b57b07-5d56-48a1-c04a-abd6794f9815",
        "colab": {
          "base_uri": "https://localhost:8080/"
        }
      },
      "outputs": [
        {
          "output_type": "stream",
          "name": "stdout",
          "text": [
            "================================================================================\n",
            "Italian Sentence:  parlate con le vostre amiche\n",
            "Acutual Translation:  talk to your friends\n",
            "Predicted Translation:  are you talking with friends again\n",
            "================================================================================\n",
            "Italian Sentence:  questo mi sta succedendo veramente\n",
            "Acutual Translation:  is this really happening to me\n",
            "Predicted Translation:  is still really going to feel this\n",
            "================================================================================\n",
            "Italian Sentence:  perché pensi che questo stia accadendo\n",
            "Acutual Translation:  why do you think this is happening\n",
            "Predicted Translation:  why do you think this is happening now\n",
            "================================================================================\n",
            "Italian Sentence:  io solitamente bevo il caffè senza zucchero\n",
            "Acutual Translation:  i usually drink coffee without sugar\n",
            "Predicted Translation:  i usually drink coffee without sugar\n",
            "================================================================================\n",
            "Italian Sentence:  tom ha risposto in modo non corretto\n",
            "Acutual Translation:  tom answered incorrectly\n",
            "Predicted Translation:  tom answered the joke yes i am\n"
          ]
        }
      ],
      "source": [
        "for index, row in validation.sample(5).iterrows():\n",
        "    pred = predict(row['italian'])\n",
        "    pred_seq = [[i[0][0] for i in pred if i[0][0] != tknizer_eng.word_index['<end>']][1:]]\n",
        "    print('='*80)\n",
        "    print(\"Italian Sentence: \" ,row['italian'].replace('<start> ','').replace(' <end>',''))\n",
        "    print(\"Acutual Translation: \" ,row['english_inp'].replace('<start> ',''))\n",
        "    print(\"Predicted Translation: \",tknizer_eng.sequences_to_texts(pred_seq)[0])"
      ]
    },
    {
      "cell_type": "code",
      "execution_count": null,
      "metadata": {
        "id": "53Tv7LEzbsUQ",
        "outputId": "92f6e2ad-a787-49ab-b373-db67a9b892d1",
        "colab": {
          "base_uri": "https://localhost:8080/"
        }
      },
      "outputs": [
        {
          "output_type": "stream",
          "name": "stdout",
          "text": [
            "Average BLUEU score for 1000 Seneteces is : 0.620334432215345\n"
          ]
        }
      ],
      "source": [
        "import nltk.translate.bleu_score as bleu\n",
        "bleu_scores = []\n",
        "for index, row in validation.sample(1000).iterrows():\n",
        "    pred = predict(row['italian'])\n",
        "    pred_seq = [[i[0][0] for i in pred if i[0][0] != tknizer_eng.word_index['<end>']][1:]]\n",
        "    reference = [row['english_inp'].replace('<start> ','').split()]\n",
        "    translation = tknizer_eng.sequences_to_texts(pred_seq)[0].split()\n",
        "    bleu_scores.append(bleu.sentence_bleu(reference, translation))\n",
        "    \n",
        "print(\"Average BLUEU score for 1000 Seneteces is :\", np.mean(bleu_scores))"
      ]
    },
    {
      "cell_type": "markdown",
      "metadata": {
        "id": "yZhX3K9GLOfJ"
      },
      "source": [
        "## Task -2: Including Attention mechanisum"
      ]
    },
    {
      "cell_type": "markdown",
      "metadata": {
        "id": "Q3d7GeBMGbsJ"
      },
      "source": [
        "1. Use the preprocessed data from Task-1\n",
        "\n",
        "2. You have to implement an Encoder and Decoder architecture with  \n",
        "attention as discussed in the reference notebook.\n",
        "\n",
        "    * Encoder   - with 1 layer LSTM <br>\n",
        "    * Decoder   - with 1 layer LSTM<br>\n",
        "    * attention -  (Please refer the <a href= 'https://drive.google.com/file/d/1z_bnc-3aubKawbR6q8wyI6Mh5ho2R1aZ/view?usp=sharing'>**reference notebook**</a> to know more about the attention mechanism.)\n",
        "3. In Global attention, we have 3 types of scoring functions(as discussed in the reference notebook).\n",
        " As a part of this assignment **you need to create 3 models for each scoring function**\n",
        "<img src='https://i.imgur.com/iD2jZo3.png'>\n",
        "\n",
        "    * In model 1 you need to implemnt \"dot\" score function\n",
        "    * In model 2 you need to implemnt \"general\" score function\n",
        "    * In model 3 you need to implemnt \"concat\" score function.<br>\n",
        "    \n",
        " **Please do add the markdown titles for each model so that we can have a better look at the code and verify.**\n",
        "4. It is mandatory to train the model with simple model.fit() only, Donot train the model with custom GradientTape()\n",
        "\n",
        "5. Using attention weights, you can plot the attention plots, \n",
        "please plot those for 2-3 examples. You can check about those in <a href=\"https://www.tensorflow.org/tutorials/text/nmt_with_attention#translate\">this</a>\n",
        "\n",
        "6. The attention layer has to be written by yourself only. \n",
        "The main objective of this assignment is to read and implement a paper on yourself so please do it yourself.  \n",
        "\n",
        "7. Please implement the class **onestepdecoder** as mentioned in the assignment instructions.\n",
        "\n",
        "8. You can use any tf.Keras highlevel API's to build and train the models. \n",
        " Check the reference notebook for better understanding.\n",
        "\n",
        "9. Use BLEU score as metric to evaluate your model. You can use any loss function you need.\n",
        "\n",
        "10. You have to use Tensorboard to plot the Graph, Scores and histograms of gradients. \n",
        "\n",
        "11. Resources:\n",
        "    a. Check the reference notebook\n",
        "    b. <a href=\"https://jalammar.github.io/visualizing-neural-machine-translation-mechanics-of-seq2seq-models-with-attention/\">Resource 1</a>\n",
        "    c. <a href=\"https://www.tensorflow.org/tutorials/text/nmt_with_attention\">Resource 2</a>\n",
        "    d. <a href=\"https://stackoverflow.com/questions/44238154/what-is-the-difference-between-luong-attention-and-bahdanau-attention#:~:text=Luong%20attention%20used%20top%20hidden,hidden%20state%20at%20time%20t.\">Resource 3</a>\n",
        "    "
      ]
    },
    {
      "cell_type": "markdown",
      "metadata": {
        "id": "PU4KIsGxLOfK"
      },
      "source": [
        "### <font color='blue'>**Implement custom encoder decoder and attention layers**</font>"
      ]
    },
    {
      "cell_type": "markdown",
      "metadata": {
        "id": "TMm3ADQDLOfK"
      },
      "source": [
        "<font color='blue'>**Encoder**</font>"
      ]
    },
    {
      "cell_type": "code",
      "execution_count": 17,
      "metadata": {
        "id": "Lx_5NA24KzRp"
      },
      "outputs": [],
      "source": [
        "class Encoder(tf.keras.Model):\n",
        "    def __init__(self,inp_vocab_size,embedding_size,lstm_size,input_length):\n",
        "\n",
        "        #Initialize Embedding layer\n",
        "        #Intialize Encoder LSTM layer\n",
        "        super().__init__()\n",
        "        self.vocab_size = inp_vocab_size\n",
        "        self.embedding_size = embedding_size\n",
        "        self.input_length = input_length\n",
        "        self.lstm_size= lstm_size\n",
        "        self.embedding = Embedding(input_dim=self.vocab_size, output_dim=self.embedding_size, input_length=self.input_length,\n",
        "                           mask_zero=True, name=\"embedding_layer_encoder\")\n",
        "        self.lstm = LSTM(self.lstm_size, return_state=True, return_sequences=True, name=\"Encoder_LSTM\")\n",
        "\n",
        "    def call(self,input_sequence,states):\n",
        "        input_embedd = self.embedding(input_sequence)\n",
        "        self.lstm_output, self.lstm_state_h,self.lstm_state_c = self.lstm(input_embedd,initial_state=states)\n",
        "        return self.lstm_output, self.lstm_state_h,self.lstm_state_c\n",
        "\n",
        "    \n",
        "    def initialize_states(self,batch_size):\n",
        "        initial_state_h=tf.zeros([batch_size,self.lstm_size],dtype=tf.dtypes.float32)\n",
        "        initial_state_c=tf.zeros([batch_size,self.lstm_size],dtype=tf.dtypes.float32)\n",
        "        return [initial_state_h , initial_state_c]"
      ]
    },
    {
      "cell_type": "markdown",
      "metadata": {
        "id": "4ub9aN-hK244"
      },
      "source": [
        "<font color='cyan'>**Grader function - 1**</font>"
      ]
    },
    {
      "cell_type": "code",
      "execution_count": 18,
      "metadata": {
        "colab": {
          "base_uri": "https://localhost:8080/"
        },
        "id": "wRoe65b9LB0D",
        "outputId": "e3aa7a4d-4da0-4a48-c15c-50fcc4dbb85d"
      },
      "outputs": [
        {
          "output_type": "stream",
          "name": "stdout",
          "text": [
            "True\n"
          ]
        }
      ],
      "source": [
        "def grader_check_encoder():\n",
        "    \n",
        "    '''\n",
        "        vocab-size: Unique words of the input language,\n",
        "        embedding_size: output embedding dimension for each word after embedding layer,\n",
        "        lstm_size: Number of lstm units in encoder,\n",
        "        input_length: Length of the input sentence,\n",
        "        batch_size\n",
        "    '''\n",
        "    \n",
        "    vocab_size=10\n",
        "    embedding_size=20\n",
        "    lstm_size=32\n",
        "    input_length=10\n",
        "    batch_size=16\n",
        "    encoder=Encoder(vocab_size,embedding_size,lstm_size,input_length)\n",
        "    input_sequence=tf.random.uniform(shape=[batch_size,input_length],maxval=vocab_size,minval=0,dtype=tf.int32)\n",
        "    initial_state=encoder.initialize_states(batch_size)\n",
        "    encoder_output,state_h,state_c=encoder(input_sequence,initial_state)\n",
        "    \n",
        "    assert(encoder_output.shape==(batch_size,input_length,lstm_size) and state_h.shape==(batch_size,lstm_size)\n",
        "           and state_c.shape==(batch_size,lstm_size))\n",
        "    return True\n",
        "print(grader_check_encoder())"
      ]
    },
    {
      "cell_type": "markdown",
      "metadata": {
        "id": "lXn278lhLYRM"
      },
      "source": [
        "<font color='blue'>**Attention**</font>"
      ]
    },
    {
      "cell_type": "code",
      "execution_count": 19,
      "metadata": {
        "id": "ab5SNdPZLlur"
      },
      "outputs": [],
      "source": [
        "class Attention(tf.keras.layers.Layer):\n",
        "    def __init__(self, scoring_function, att_units):\n",
        "        super().__init__()\n",
        "        self.scoring_function = scoring_function\n",
        "        self.att_units = att_units\n",
        "\n",
        "        if self.scoring_function == 'concat':\n",
        "            self.W11 = tf.keras.layers.Dense(self.att_units)\n",
        "            self.W21 = tf.keras.layers.Dense(self.att_units)\n",
        "            self.v = tf.keras.layers.Dense(1)\n",
        "            \n",
        "        elif self.scoring_function == 'general':\n",
        "            self.W1 = tf.keras.layers.Dense(self.att_units)\n",
        "\n",
        "  \n",
        "    def call(self,decoder_hidden_state,encoder_output):\n",
        "        if self.scoring_function == 'dot':\n",
        "            decoder_hidden_state = tf.expand_dims(decoder_hidden_state,2)\n",
        "            similarity = tf.matmul(encoder_output, decoder_hidden_state)\n",
        "\n",
        "        elif self.scoring_function == 'general':\n",
        "            decoder_hidden_state = tf.expand_dims(decoder_hidden_state,2)\n",
        "            weights = self.W1(encoder_output)\n",
        "            similarity = tf.matmul(weights, decoder_hidden_state)\n",
        "\n",
        "        elif self.scoring_function == 'concat':\n",
        "            decoder_hidden_state = tf.expand_dims(decoder_hidden_state,1)\n",
        "            similarity = self.v(tf.nn.tanh(self.W11(decoder_hidden_state) + self.W21(encoder_output)))\n",
        "            \n",
        "        attention_weights = tf.nn.softmax(similarity,axis=1)\n",
        "        context_vector = attention_weights * encoder_output\n",
        "        context_vector = tf.reduce_sum(context_vector,axis=1)\n",
        "\n",
        "        return context_vector,attention_weights"
      ]
    },
    {
      "cell_type": "markdown",
      "metadata": {
        "id": "ExQDlxI9LuqK"
      },
      "source": [
        "<font color='cyan'>**Grader function - 2**</font>"
      ]
    },
    {
      "cell_type": "code",
      "execution_count": 20,
      "metadata": {
        "colab": {
          "base_uri": "https://localhost:8080/"
        },
        "id": "51x50h_TLrl9",
        "outputId": "25d6314d-ddbb-4afc-cd30-08c2399af256"
      },
      "outputs": [
        {
          "output_type": "stream",
          "name": "stdout",
          "text": [
            "True\n",
            "True\n",
            "True\n"
          ]
        }
      ],
      "source": [
        "def grader_check_attention(scoring_fun):\n",
        "    \n",
        "    ''' \n",
        "        att_units: Used in matrix multiplications for scoring functions,\n",
        "        input_length: Length of the input sentence,\n",
        "        batch_size\n",
        "    '''\n",
        "    \n",
        "    input_length=10\n",
        "    batch_size=16\n",
        "    att_units=32\n",
        "    \n",
        "    state_h=tf.random.uniform(shape=[batch_size,att_units])\n",
        "    encoder_output=tf.random.uniform(shape=[batch_size,input_length,att_units])\n",
        "    attention=Attention(scoring_fun,att_units)\n",
        "    context_vector,attention_weights=attention(state_h,encoder_output)\n",
        "    assert(context_vector.shape==(batch_size,att_units) and attention_weights.shape==(batch_size,input_length,1))\n",
        "    return True\n",
        "print(grader_check_attention('dot'))\n",
        "print(grader_check_attention('general'))\n",
        "print(grader_check_attention('concat'))"
      ]
    },
    {
      "cell_type": "markdown",
      "metadata": {
        "id": "ic-FNEbfL2DN"
      },
      "source": [
        "<font color='blue'>**OneStepDecoder**</font>"
      ]
    },
    {
      "cell_type": "code",
      "execution_count": 21,
      "metadata": {
        "id": "Kc8m7lmOL097"
      },
      "outputs": [],
      "source": [
        "class One_Step_Decoder(tf.keras.Model):\n",
        "    def __init__(self,tar_vocab_size, embedding_dim, input_length, dec_units ,score_fun ,att_units):\n",
        "        super().__init__()\n",
        "        self.vocab_size = tar_vocab_size\n",
        "        self.embedding_size = embedding_dim\n",
        "        self.input_length = input_length\n",
        "        self.lstm_size= dec_units\n",
        "        self.score_fun = score_fun\n",
        "        self.att_units = att_units\n",
        "        self.embedding = Embedding(input_dim=self.vocab_size, output_dim=self.embedding_size, input_length=self.input_length,\n",
        "                           mask_zero=True, name=\"embedding_layer_encoder\")\n",
        "        self.lstm = LSTM(self.lstm_size, return_state=True, return_sequences=True, name=\"Encoder_LSTM\")\n",
        "        self.dense = Dense(self.vocab_size)\n",
        "        self.attention=Attention(self.score_fun,self.att_units)\n",
        "\n",
        "    def call(self,input_to_decoder, encoder_output, state_h,state_c):\n",
        "        input_embedd = self.embedding(input_to_decoder)\n",
        "        \n",
        "        context_vector,attention_weights=self.attention(state_h,encoder_output)\n",
        "       \n",
        "        concat_embed = tf.concat([input_embedd,context_vector[:,tf.newaxis,:]],2)\n",
        "        \n",
        "        lstm_output, lstm_state_h,lstm_state_c = self.lstm(concat_embed,initial_state=[state_h,state_c])\n",
        "        decoder_output = self.dense(tf.squeeze(lstm_output,axis=[1]))\n",
        "        \n",
        "        return decoder_output,lstm_state_h,lstm_state_c,attention_weights,context_vector"
      ]
    },
    {
      "cell_type": "markdown",
      "metadata": {
        "id": "R_I8I4EIMAXq"
      },
      "source": [
        "<font color='cyan'>**Grader function - 3**</font>"
      ]
    },
    {
      "cell_type": "code",
      "execution_count": 22,
      "metadata": {
        "colab": {
          "base_uri": "https://localhost:8080/"
        },
        "id": "uLEXhChnMC1k",
        "outputId": "d9623ad8-166c-49dd-f920-ec002b254381"
      },
      "outputs": [
        {
          "output_type": "stream",
          "name": "stdout",
          "text": [
            "True\n",
            "True\n",
            "True\n"
          ]
        }
      ],
      "source": [
        "def grader_onestepdecoder(score_fun):\n",
        "    \n",
        "    '''\n",
        "        tar_vocab_size: Unique words of the target language,\n",
        "        embedding_dim: output embedding dimension for each word after embedding layer,\n",
        "        dec_units: Number of lstm units in decoder,\n",
        "        att_units: Used in matrix multiplications for scoring functions in attention class,\n",
        "        input_length: Length of the target sentence,\n",
        "        batch_size\n",
        "        \n",
        "    \n",
        "    '''\n",
        "    \n",
        "    tar_vocab_size=13 \n",
        "    embedding_dim=12 \n",
        "    input_length=10\n",
        "    dec_units=16 \n",
        "    att_units=16\n",
        "    batch_size=32\n",
        "    onestepdecoder=One_Step_Decoder(tar_vocab_size, embedding_dim, input_length, dec_units ,score_fun ,att_units)\n",
        "    input_to_decoder=tf.random.uniform(shape=(batch_size,1),maxval=10,minval=0,dtype=tf.int32)\n",
        "    encoder_output=tf.random.uniform(shape=[batch_size,input_length,dec_units])\n",
        "    state_h=tf.random.uniform(shape=[batch_size,dec_units])\n",
        "    state_c=tf.random.uniform(shape=[batch_size,dec_units])\n",
        "    output,state_h,state_c,attention_weights,context_vector=onestepdecoder(input_to_decoder,encoder_output,state_h,state_c)\n",
        "    assert(output.shape==(batch_size,tar_vocab_size))\n",
        "    assert(state_h.shape==(batch_size,dec_units))\n",
        "    assert(state_c.shape==(batch_size,dec_units))\n",
        "    assert(attention_weights.shape==(batch_size,input_length,1))\n",
        "    assert(context_vector.shape==(batch_size,dec_units))\n",
        "    return True\n",
        "    \n",
        "print(grader_onestepdecoder('dot'))\n",
        "print(grader_onestepdecoder('general'))\n",
        "print(grader_onestepdecoder('concat'))\n",
        "    "
      ]
    },
    {
      "cell_type": "markdown",
      "metadata": {
        "id": "6FHrurjUMGAi"
      },
      "source": [
        "<font color='blue'>**Decoder**</font>"
      ]
    },
    {
      "cell_type": "code",
      "execution_count": 23,
      "metadata": {
        "id": "NV-x31rj6Hc4"
      },
      "outputs": [],
      "source": [
        "class Decoder(tf.keras.Model):\n",
        "    def __init__(self,out_vocab_size, embedding_dim, input_length, dec_units ,score_fun ,att_units):\n",
        "        super().__init__()\n",
        "        self.vocab_size = out_vocab_size\n",
        "        self.embedding_dim = embedding_dim\n",
        "        self.dec_units = dec_units\n",
        "        self.att_units = att_units\n",
        "        self.input_length = input_length\n",
        "        self.score_fun = score_fun\n",
        "        self.onestepdecoder = One_Step_Decoder(self.vocab_size, self.embedding_dim , self.input_length,\n",
        "                                               self.dec_units ,self.score_fun ,self.att_units )\n",
        "\n",
        "\n",
        "    def call(self, input_to_decoder,encoder_output,decoder_hidden_state,decoder_cell_state ):\n",
        "        all_outputs = tf.TensorArray(tf.float32,size=self.input_length,name=\"output_array\")\n",
        "        for timestep in range(self.input_length):\n",
        "            output,decoder_hidden_state,decoder_cell_state,attention_weights,context_vector=self.onestepdecoder(input_to_decoder[:,timestep:timestep+1],\n",
        "                                                                                                           encoder_output,\n",
        "                                                                                                           decoder_hidden_state,\n",
        "                                                                                                           decoder_cell_state)\n",
        "            \n",
        "            all_outputs = all_outputs.write(timestep,output)\n",
        "            \n",
        "        all_outputs = tf.transpose(all_outputs.stack(),[1,0,2])\n",
        "        return all_outputs"
      ]
    },
    {
      "cell_type": "markdown",
      "metadata": {
        "id": "FxrL-P8bMJH6"
      },
      "source": [
        "<font color='cyan'>**Grader function - 4**</font>"
      ]
    },
    {
      "cell_type": "code",
      "execution_count": 24,
      "metadata": {
        "colab": {
          "base_uri": "https://localhost:8080/"
        },
        "id": "rtbx6onFMJXb",
        "outputId": "a1467df9-5160-41e6-d1e6-43ab3bc4115c"
      },
      "outputs": [
        {
          "output_type": "stream",
          "name": "stdout",
          "text": [
            "True\n",
            "True\n",
            "True\n"
          ]
        }
      ],
      "source": [
        "def grader_decoder(score_fun):\n",
        "    \n",
        "    '''\n",
        "        out_vocab_size: Unique words of the target language,\n",
        "        embedding_dim: output embedding dimension for each word after embedding layer,\n",
        "        dec_units: Number of lstm units in decoder,\n",
        "        att_units: Used in matrix multiplications for scoring functions in attention class,\n",
        "        input_length: Length of the target sentence,\n",
        "        batch_size\n",
        "        \n",
        "    \n",
        "    '''\n",
        "    \n",
        "    out_vocab_size=13 \n",
        "    embedding_dim=12 \n",
        "    input_length=11\n",
        "    dec_units=16 \n",
        "    att_units=16\n",
        "    batch_size=32\n",
        "    \n",
        "    target_sentences=tf.random.uniform(shape=(batch_size,input_length),maxval=10,minval=0,dtype=tf.int32)\n",
        "    encoder_output=tf.random.uniform(shape=[batch_size,input_length,dec_units])\n",
        "    state_h=tf.random.uniform(shape=[batch_size,dec_units])\n",
        "    state_c=tf.random.uniform(shape=[batch_size,dec_units])\n",
        "    \n",
        "    decoder=Decoder(out_vocab_size, embedding_dim, input_length, dec_units ,score_fun ,att_units)\n",
        "    output=decoder(target_sentences,encoder_output, state_h, state_c)\n",
        "    assert(output.shape==(batch_size,input_length,out_vocab_size))\n",
        "    return True\n",
        "print(grader_decoder('dot'))\n",
        "print(grader_decoder('general'))\n",
        "print(grader_decoder('concat'))"
      ]
    },
    {
      "cell_type": "markdown",
      "metadata": {
        "id": "fC1T1EOoMTqC"
      },
      "source": [
        "<font color='blue'>**Encoder Decoder model**</font>"
      ]
    },
    {
      "cell_type": "code",
      "execution_count": 25,
      "metadata": {
        "id": "FfqBIe20MT3D"
      },
      "outputs": [],
      "source": [
        "class encoder_decoder(tf.keras.Model):\n",
        "    def __init__(self,encoder_inputs_length,decoder_inputs_length, output_vocab_size,score_fun,batch_size=128):\n",
        "        super().__init__()\n",
        "        self.batch_size=batch_size\n",
        "        self.encoder = Encoder(inp_vocab_size=vocab_size_ita+1, embedding_size=50, input_length=encoder_inputs_length,\n",
        "                               lstm_size=256)\n",
        "        self.decoder = Decoder(out_vocab_size=vocab_size_eng+1, embedding_dim=100, input_length=decoder_inputs_length,\n",
        "                               dec_units=256 ,score_fun = score_fun ,att_units=256)\n",
        "\n",
        "    def call(self,data):\n",
        "        encoder_output,state_h,state_c=self.encoder(data[0],self.encoder.initialize_states(batch_size))\n",
        "        outputs = self.decoder(data[1],encoder_output,state_h,state_c)\n",
        "        \n",
        "        return outputs"
      ]
    },
    {
      "cell_type": "markdown",
      "metadata": {
        "id": "WVRxB-FDMJWL"
      },
      "source": [
        "<font color='blue'>**Custom loss function**</font>"
      ]
    },
    {
      "cell_type": "code",
      "execution_count": 26,
      "metadata": {
        "id": "QY_3izrXMs8y"
      },
      "outputs": [],
      "source": [
        "loss_object = tf.keras.losses.SparseCategoricalCrossentropy(\n",
        "    from_logits=True, reduction='none')\n",
        "\n",
        "#custom loss function\n",
        "def loss_function(real, pred):\n",
        "    mask = tf.math.logical_not(tf.math.equal(real, 0))\n",
        "    loss_ = loss_object(real, pred)\n",
        "\n",
        "    mask = tf.cast(mask, dtype=loss_.dtype)\n",
        "    loss_ *= mask\n",
        "\n",
        "    return tf.reduce_mean(loss_)"
      ]
    },
    {
      "cell_type": "code",
      "execution_count": 27,
      "metadata": {
        "id": "ktlD9A-kxjBp"
      },
      "outputs": [],
      "source": [
        "class Dataset:\n",
        "    def __init__(self, data, tknizer_ita, tknizer_eng, max_len):\n",
        "        self.encoder_inps = data['italian'].values\n",
        "        self.decoder_inps = data['english_inp'].values\n",
        "        self.decoder_outs = data['english_out'].values\n",
        "        self.tknizer_eng = tknizer_eng\n",
        "        self.tknizer_ita = tknizer_ita\n",
        "        self.max_len = max_len\n",
        "\n",
        "    def __getitem__(self, i):\n",
        "        self.encoder_seq = self.tknizer_ita.texts_to_sequences([self.encoder_inps[i]]) # need to pass list of values\n",
        "        self.decoder_inp_seq = self.tknizer_eng.texts_to_sequences([self.decoder_inps[i]])\n",
        "        self.decoder_out_seq = self.tknizer_eng.texts_to_sequences([self.decoder_outs[i]])\n",
        "\n",
        "        self.encoder_seq = pad_sequences(self.encoder_seq, maxlen=self.max_len, dtype='int32', padding='post')\n",
        "        self.decoder_inp_seq = pad_sequences(self.decoder_inp_seq, maxlen=self.max_len+1, dtype='int32', padding='post')\n",
        "        self.decoder_out_seq = pad_sequences(self.decoder_out_seq, maxlen=self.max_len+1, dtype='int32', padding='post')\n",
        "        return self.encoder_seq, self.decoder_inp_seq, self.decoder_out_seq\n",
        "\n",
        "    def __len__(self): # your model.fit_gen requires this function\n",
        "        return len(self.encoder_inps)\n",
        "\n",
        "    \n",
        "class Dataloder(tf.keras.utils.Sequence):    \n",
        "    def __init__(self, dataset, batch_size=1):\n",
        "        self.dataset = dataset\n",
        "        self.batch_size = batch_size\n",
        "        self.indexes = np.arange(len(self.dataset.encoder_inps))\n",
        "\n",
        "\n",
        "    def __getitem__(self, i):\n",
        "        start = i * self.batch_size\n",
        "        stop = (i + 1) * self.batch_size\n",
        "        data = []\n",
        "        for j in range(start, stop):\n",
        "            data.append(self.dataset[j])\n",
        "\n",
        "        batch = [np.squeeze(np.stack(samples, axis=1), axis=0) for samples in zip(*data)]\n",
        "        return tuple([[batch[0],batch[1]],batch[2]])\n",
        "\n",
        "    def __len__(self):\n",
        "        return len(self.indexes) // self.batch_size\n",
        "\n",
        "    def on_epoch_end(self):\n",
        "        self.indexes = np.random.permutation(self.indexes)"
      ]
    },
    {
      "cell_type": "code",
      "execution_count": 28,
      "metadata": {
        "colab": {
          "base_uri": "https://localhost:8080/"
        },
        "id": "yGuGAMKWxjBq",
        "outputId": "96ba1531-7aa0-46b7-9537-ed0773d911bd"
      },
      "outputs": [
        {
          "output_type": "stream",
          "name": "stdout",
          "text": [
            "(512, 25) (512, 26) (512, 26)\n"
          ]
        }
      ],
      "source": [
        "batch_size = 512\n",
        "train_dataset = Dataset(train, tknizer_ita, tknizer_eng, 25)\n",
        "vaidation_dataset  = Dataset(validation, tknizer_ita, tknizer_eng, 25)\n",
        "\n",
        "train_dataloader = Dataloder(train_dataset, batch_size=batch_size)\n",
        "vaidation_dataloader = Dataloder(vaidation_dataset, batch_size=batch_size)\n",
        "\n",
        "\n",
        "print(train_dataloader[1][0][0].shape, train_dataloader[1][0][1].shape, train_dataloader[1][1].shape)"
      ]
    },
    {
      "cell_type": "markdown",
      "metadata": {
        "id": "2QlbWAqNNlqe"
      },
      "source": [
        "<font color='blue'>**Training**</font>"
      ]
    },
    {
      "cell_type": "markdown",
      "metadata": {
        "id": "wqtZUQF2NuZE"
      },
      "source": [
        "Implement dot function here."
      ]
    },
    {
      "cell_type": "code",
      "execution_count": null,
      "metadata": {
        "id": "fgyWwZWeMxGQ"
      },
      "outputs": [],
      "source": [
        "# Implement teacher forcing while training your model. You can do it two ways.\n",
        "# Prepare your data, encoder_input,decoder_input and decoder_output\n",
        "# if decoder input is \n",
        "# <start> Hi how are you\n",
        "# decoder output should be\n",
        "# Hi How are you <end>\n",
        "# i.e when you have send <start>-- decoder predicted Hi, 'Hi' decoder predicted 'How' .. e.t.c\n",
        "\n",
        "# or\n",
        " \n",
        "# model.fit([train_ita,train_eng],train_eng[:,1:]..)\n",
        "# Note: If you follow this approach some grader functions might return false and this is fine."
      ]
    },
    {
      "cell_type": "code",
      "execution_count": null,
      "metadata": {
        "id": "A7J56o-cbsU6"
      },
      "outputs": [],
      "source": [
        "log_dir = \"logs/fit/\" + datetime.datetime.now().strftime(\"%Y%m%d-%H%M%S\")\n",
        "tensorboard_callback = tf.keras.callbacks.TensorBoard(log_dir=log_dir, histogram_freq=1)\n",
        "early_stop = tf.keras.callbacks.EarlyStopping(monitor='val_loss', mode='min', patience=5,  restore_best_weights=True)"
      ]
    },
    {
      "cell_type": "code",
      "execution_count": null,
      "metadata": {
        "id": "milItCfMbsU7"
      },
      "outputs": [],
      "source": [
        "model_dot = encoder_decoder(25,26,vocab_size_eng,'dot')\n",
        "optimizer = tf.keras.optimizers.Adam()\n",
        "model_dot.compile(optimizer=optimizer,loss=loss_function)\n",
        "train_steps=train.shape[0]//batch_size\n",
        "valid_steps=validation.shape[0]//batch_size"
      ]
    },
    {
      "cell_type": "code",
      "execution_count": null,
      "metadata": {
        "colab": {
          "base_uri": "https://localhost:8080/"
        },
        "id": "lKOyTn3YbsU7",
        "outputId": "d7654278-9432-44b2-e31c-bb173e578169"
      },
      "outputs": [
        {
          "output_type": "stream",
          "name": "stdout",
          "text": [
            "Epoch 1/25\n",
            "546/546 [==============================] - 364s 572ms/step - loss: 1.3301 - val_loss: 1.1806\n",
            "Epoch 2/25\n",
            "546/546 [==============================] - 312s 572ms/step - loss: 1.0574 - val_loss: 0.9153\n",
            "Epoch 3/25\n",
            "546/546 [==============================] - 295s 540ms/step - loss: 0.8129 - val_loss: 0.7239\n",
            "Epoch 4/25\n",
            "546/546 [==============================] - 293s 537ms/step - loss: 0.6479 - val_loss: 0.5897\n",
            "Epoch 5/25\n",
            "546/546 [==============================] - 293s 537ms/step - loss: 0.5207 - val_loss: 0.4839\n",
            "Epoch 6/25\n",
            "546/546 [==============================] - 293s 537ms/step - loss: 0.4202 - val_loss: 0.4020\n",
            "Epoch 7/25\n",
            "546/546 [==============================] - 293s 537ms/step - loss: 0.3434 - val_loss: 0.3429\n",
            "Epoch 8/25\n",
            "546/546 [==============================] - 294s 538ms/step - loss: 0.2864 - val_loss: 0.3007\n",
            "Epoch 9/25\n",
            "546/546 [==============================] - 294s 538ms/step - loss: 0.2430 - val_loss: 0.2699\n",
            "Epoch 10/25\n",
            "546/546 [==============================] - 294s 538ms/step - loss: 0.2103 - val_loss: 0.2465\n",
            "Epoch 11/25\n",
            "546/546 [==============================] - 294s 538ms/step - loss: 0.1849 - val_loss: 0.2289\n",
            "Epoch 12/25\n",
            "546/546 [==============================] - 294s 539ms/step - loss: 0.1646 - val_loss: 0.2163\n",
            "Epoch 13/25\n",
            "546/546 [==============================] - 294s 538ms/step - loss: 0.1481 - val_loss: 0.2056\n",
            "Epoch 14/25\n",
            "546/546 [==============================] - 294s 538ms/step - loss: 0.1349 - val_loss: 0.1967\n",
            "Epoch 15/25\n",
            "546/546 [==============================] - 294s 538ms/step - loss: 0.1239 - val_loss: 0.1909\n",
            "Epoch 16/25\n",
            "546/546 [==============================] - 294s 538ms/step - loss: 0.1143 - val_loss: 0.1837\n",
            "Epoch 17/25\n",
            "546/546 [==============================] - 294s 538ms/step - loss: 0.1062 - val_loss: 0.1820\n",
            "Epoch 18/25\n",
            "546/546 [==============================] - 294s 538ms/step - loss: 0.0989 - val_loss: 0.1771\n",
            "Epoch 19/25\n",
            "546/546 [==============================] - 294s 538ms/step - loss: 0.0927 - val_loss: 0.1728\n",
            "Epoch 20/25\n",
            "546/546 [==============================] - 308s 565ms/step - loss: 0.0872 - val_loss: 0.1709\n",
            "Epoch 21/25\n",
            "546/546 [==============================] - 293s 536ms/step - loss: 0.0824 - val_loss: 0.1687\n",
            "Epoch 22/25\n",
            "546/546 [==============================] - 292s 535ms/step - loss: 0.0777 - val_loss: 0.1661\n",
            "Epoch 23/25\n",
            "546/546 [==============================] - 292s 535ms/step - loss: 0.0738 - val_loss: 0.1666\n",
            "Epoch 24/25\n",
            "546/546 [==============================] - 292s 535ms/step - loss: 0.0701 - val_loss: 0.1635\n",
            "Epoch 25/25\n",
            "546/546 [==============================] - 292s 535ms/step - loss: 0.0667 - val_loss: 0.1625\n"
          ]
        },
        {
          "output_type": "execute_result",
          "data": {
            "text/plain": [
              "<keras.callbacks.History at 0x7f51f9fa0610>"
            ]
          },
          "metadata": {},
          "execution_count": 39
        }
      ],
      "source": [
        "model_dot.fit(train_dataloader,\n",
        "                     steps_per_epoch=train_steps,\n",
        "                     epochs=25,\n",
        "                     validation_data=vaidation_dataloader,\n",
        "                     validation_steps=valid_steps,\n",
        "                     callbacks=[tensorboard_callback,early_stop],\n",
        "                     verbose=1)"
      ]
    },
    {
      "cell_type": "code",
      "source": [
        "model_dot.summary()"
      ],
      "metadata": {
        "colab": {
          "base_uri": "https://localhost:8080/"
        },
        "id": "BSX-bu3nyC-T",
        "outputId": "ef59d98f-7c5e-4a44-a315-d5192f139a19"
      },
      "execution_count": null,
      "outputs": [
        {
          "output_type": "stream",
          "name": "stdout",
          "text": [
            "Model: \"encoder_decoder_1\"\n",
            "_________________________________________________________________\n",
            " Layer (type)                Output Shape              Param #   \n",
            "=================================================================\n",
            " encoder_2 (Encoder)         multiple                  1647668   \n",
            "                                                                 \n",
            " decoder_4 (Decoder)         multiple                  5313337   \n",
            "                                                                 \n",
            "=================================================================\n",
            "Total params: 6,961,005\n",
            "Trainable params: 6,961,005\n",
            "Non-trainable params: 0\n",
            "_________________________________________________________________\n"
          ]
        }
      ]
    },
    {
      "cell_type": "markdown",
      "metadata": {
        "id": "6DpC9zlzMcXp"
      },
      "source": [
        "## <font color='blue'>**Inference**</font>"
      ]
    },
    {
      "cell_type": "markdown",
      "metadata": {
        "id": "Z5NhESYyMW_t"
      },
      "source": [
        "<font color='blue'>**Plot attention weights**</font>"
      ]
    },
    {
      "cell_type": "code",
      "execution_count": null,
      "metadata": {
        "id": "pkEY7SsBMtrC"
      },
      "outputs": [],
      "source": [
        "def plot_attention(att, italic_sentence, prediction):   # given attention matrix/list of lists italic sentence and prediction from encoder_decoder model get the plot \n",
        "    #Refer: https://www.tensorflow.org/tutorials/text/nmt_with_attention#translate\n",
        "    new_att = []   # getting attention weights \n",
        "    for i in range(len(att)):\n",
        "        at = [i[0] for i in att[i].numpy()[0]] \n",
        "        new_att.append(at)\n",
        "        \n",
        "    fig = plt.figure(figsize=(10, 10))\n",
        "    ax = fig.add_subplot(1, 1, 1)\n",
        "    ax.matshow(new_att)         # ploting  \n",
        "    ax.set_xticklabels([''] + italic_sentence.split(' '), rotation=90)\n",
        "    ax.set_yticklabels([''] + prediction)\n",
        "    plt.show()       "
      ]
    },
    {
      "cell_type": "markdown",
      "metadata": {
        "id": "e1IhdBrgQYJr"
      },
      "source": [
        "<font color='blue'>**Predict the sentence translation**</font>"
      ]
    },
    {
      "cell_type": "code",
      "execution_count": null,
      "metadata": {
        "id": "MP3kLZoPMvSu"
      },
      "outputs": [],
      "source": [
        "import seaborn as sns\n",
        "def predict(model_dot,data,visualize=True):\n",
        "    inputs = data.split(' ')\n",
        "    encoder_seq = tknizer_ita.texts_to_sequences([data])\n",
        "    encoder_seq = pad_sequences(encoder_seq, maxlen=25, dtype='int32', padding='post')\n",
        "    encoder_output,state_h,state_c = model_dot.encoder(encoder_seq,model_dot.encoder.initialize_states(1))\n",
        "    input_to_decoder = np.array(tknizer_eng.texts_to_sequences(['<start>']))\n",
        "    outputs = []\n",
        "    attention_wts = []\n",
        "    count = 0\n",
        "    while True:\n",
        "        output,state_h,state_c,attention_weights,context_vector=model_dot.decoder.onestepdecoder(input_to_decoder,\n",
        "                                                                                    encoder_output,\n",
        "                                                                                    state_h,\n",
        "                                                                                    state_c)\n",
        "        eng_id = tf.math.argmax(output[0]).numpy()\n",
        "        eng_word = tknizer_eng.sequences_to_texts([[eng_id]])\n",
        "        input_to_decoder = np.array(tknizer_eng.texts_to_sequences(eng_word))\n",
        "        count += 1\n",
        "        if count == 26 or eng_word[0] == '<end>':\n",
        "            break\n",
        "        outputs.append(eng_word[0])\n",
        "        attention_wts.append(tf.squeeze(attention_weights).numpy()[:len(inputs)])\n",
        "    \n",
        "    attention_wts = np.array(attention_wts)\n",
        "    if visualize:\n",
        "        sns.heatmap(attention_wts,xticklabels=inputs,yticklabels=outputs,cmap=\"flare\")\n",
        "        plt.show()\n",
        "    return(outputs,np.array(attention_wts))"
      ]
    },
    {
      "cell_type": "code",
      "execution_count": null,
      "metadata": {
        "id": "rRsEhiJqbsVS",
        "colab": {
          "base_uri": "https://localhost:8080/",
          "height": 1000
        },
        "outputId": "4cff46cd-45d8-4178-d801-3f39d64bfc99"
      },
      "outputs": [
        {
          "output_type": "stream",
          "name": "stdout",
          "text": [
            "================================================================================\n",
            "Italian Sentence:  io ho due cani tre gatti e sei polli\n",
            "Acutual Translation:  i have two dogs three cats and six chickens\n",
            "Attention Weights: \n"
          ]
        },
        {
          "output_type": "display_data",
          "data": {
            "text/plain": [
              "<Figure size 432x288 with 2 Axes>"
            ],
            "image/png": "[encoded data removed]"
          },
          "metadata": {
            "needs_background": "light"
          }
        },
        {
          "output_type": "stream",
          "name": "stdout",
          "text": [
            "Predicted Translation:  i have two dogs three cats and six chickens\n",
            "================================================================================\n",
            "Italian Sentence:  i trasporti sono stati programmati\n",
            "Acutual Translation:  transportation has been arranged\n",
            "Attention Weights: \n"
          ]
        },
        {
          "output_type": "display_data",
          "data": {
            "text/plain": [
              "<Figure size 432x288 with 2 Axes>"
            ],
            "image/png": "[encoded data removed]"
          },
          "metadata": {
            "needs_background": "light"
          }
        },
        {
          "output_type": "stream",
          "name": "stdout",
          "text": [
            "Predicted Translation:  transportation has been arranged\n",
            "================================================================================\n",
            "Italian Sentence:  state arrossendo\n",
            "Acutual Translation:  are you blushing\n",
            "Attention Weights: \n"
          ]
        },
        {
          "output_type": "display_data",
          "data": {
            "text/plain": [
              "<Figure size 432x288 with 2 Axes>"
            ],
            "image/png": "[encoded data removed]"
          },
          "metadata": {
            "needs_background": "light"
          }
        },
        {
          "output_type": "stream",
          "name": "stdout",
          "text": [
            "Predicted Translation:  are you blushing\n",
            "================================================================================\n",
            "Italian Sentence:  sono stato il primo insegnante di francese di tom\n",
            "Acutual Translation:  i was tom is first french teacher\n",
            "Attention Weights: \n"
          ]
        },
        {
          "output_type": "display_data",
          "data": {
            "text/plain": [
              "<Figure size 432x288 with 2 Axes>"
            ],
            "image/png": "[encoded data removed]"
          },
          "metadata": {
            "needs_background": "light"
          }
        },
        {
          "output_type": "stream",
          "name": "stdout",
          "text": [
            "Predicted Translation:  i was tom is first french teacher\n",
            "================================================================================\n",
            "Italian Sentence:  perché tom vuole mollare\n",
            "Acutual Translation:  why does tom want to quit\n",
            "Attention Weights: \n"
          ]
        },
        {
          "output_type": "display_data",
          "data": {
            "text/plain": [
              "<Figure size 432x288 with 2 Axes>"
            ],
            "image/png": "[encoded data removed]"
          },
          "metadata": {
            "needs_background": "light"
          }
        },
        {
          "output_type": "stream",
          "name": "stdout",
          "text": [
            "Predicted Translation:  why does tom want to quit\n"
          ]
        }
      ],
      "source": [
        "for i,row in train.sample(5).iterrows():\n",
        "    print('='*80)\n",
        "    print(\"Italian Sentence: \" ,row['italian'].replace('<start> ','').replace(' <end>',''))\n",
        "    print(\"Acutual Translation: \" ,row['english_inp'].replace('<start> ',''))\n",
        "    print(\"Attention Weights: \")\n",
        "    outputs,attention_wts = predict(model_dot,row['italian'])\n",
        "    print(\"Predicted Translation: \",\" \".join(outputs))"
      ]
    },
    {
      "cell_type": "markdown",
      "metadata": {
        "id": "jmxIVOOQPWMu"
      },
      "source": [
        "<font color='blue'>**Calculate BLEU score**</font>"
      ]
    },
    {
      "cell_type": "code",
      "execution_count": null,
      "metadata": {
        "colab": {
          "base_uri": "https://localhost:8080/"
        },
        "id": "0iHiLdROM23l",
        "outputId": "cfcf88ec-66dc-4bb5-c12e-268b5a06d958"
      },
      "outputs": [
        {
          "output_type": "stream",
          "name": "stdout",
          "text": [
            "Average BLUEU score for 1000 Seneteces is : 0.8018026612171132\n"
          ]
        }
      ],
      "source": [
        "#Create an object of your custom model.\n",
        "#Compile and train your model on dot scoring function.\n",
        "# Visualize few sentences randomly in Test data\n",
        "# Predict on 1000 random sentences on test data and calculate the average BLEU score of these sentences.\n",
        "# https://www.nltk.org/_modules/nltk/translate/bleu_score.html\n",
        "\n",
        "import nltk.translate.bleu_score as bleu\n",
        "bleu_scores = []\n",
        "for index, row in validation.sample(1000).iterrows():\n",
        "    translation,at_wts = predict(model_dot,row['italian'],False)\n",
        "    reference = [row['english_inp'].replace('<start> ','').split()]\n",
        "    bleu_scores.append(bleu.sentence_bleu(reference, translation))\n",
        "    \n",
        "print(\"Average BLUEU score for 1000 Seneteces is :\", np.mean(bleu_scores))"
      ]
    },
    {
      "cell_type": "markdown",
      "metadata": {
        "id": "SWg2ferDQvT3"
      },
      "source": [
        "<font color='blue'>**Repeat the same steps for General scoring function**</font>"
      ]
    },
    {
      "cell_type": "code",
      "execution_count": null,
      "metadata": {
        "id": "4Rh9_w79M5JO"
      },
      "outputs": [],
      "source": [
        "#Compile and train your model on general scoring function.\n",
        "# Visualize few sentences randomly in Test data\n",
        "# Predict on 1000 random sentences on test data and calculate the average BLEU score of these sentences.\n",
        "# https://www.nltk.org/_modules/nltk/translate/bleu_score.html"
      ]
    },
    {
      "cell_type": "code",
      "execution_count": null,
      "metadata": {
        "id": "FYv-4boTbsVZ"
      },
      "outputs": [],
      "source": [
        "log_dir = \"logs/fit/\" + datetime.datetime.now().strftime(\"%Y%m%d-%H%M%S\")\n",
        "tensorboard_callback = tf.keras.callbacks.TensorBoard(log_dir=log_dir, histogram_freq=1)\n",
        "early_stop = tf.keras.callbacks.EarlyStopping(monitor='val_loss', mode='min', patience=5,  restore_best_weights=True)"
      ]
    },
    {
      "cell_type": "code",
      "execution_count": null,
      "metadata": {
        "id": "ltRRgx5KbsVa"
      },
      "outputs": [],
      "source": [
        "model_general = encoder_decoder(25,26,vocab_size_eng,'general')\n",
        "optimizer = tf.keras.optimizers.Adam()\n",
        "model_general.compile(optimizer=optimizer,loss=loss_function)\n",
        "train_steps=train.shape[0]//batch_size\n",
        "valid_steps=validation.shape[0]//batch_size"
      ]
    },
    {
      "cell_type": "code",
      "execution_count": null,
      "metadata": {
        "colab": {
          "base_uri": "https://localhost:8080/"
        },
        "id": "zqPLJATxbsVa",
        "outputId": "c1d871a0-5c1d-4803-e719-4211d5ab2412"
      },
      "outputs": [
        {
          "output_type": "stream",
          "name": "stdout",
          "text": [
            "Epoch 1/25\n",
            "546/546 [==============================] - 205s 292ms/step - loss: 1.3290 - val_loss: 1.1855\n",
            "Epoch 2/25\n",
            "546/546 [==============================] - 153s 280ms/step - loss: 1.0401 - val_loss: 0.8862\n",
            "Epoch 3/25\n",
            "546/546 [==============================] - 155s 283ms/step - loss: 0.7785 - val_loss: 0.6874\n",
            "Epoch 4/25\n",
            "546/546 [==============================] - 155s 283ms/step - loss: 0.6081 - val_loss: 0.5486\n",
            "Epoch 5/25\n",
            "546/546 [==============================] - 155s 283ms/step - loss: 0.4816 - val_loss: 0.4456\n",
            "Epoch 6/25\n",
            "546/546 [==============================] - 155s 284ms/step - loss: 0.3875 - val_loss: 0.3722\n",
            "Epoch 7/25\n",
            "546/546 [==============================] - 155s 284ms/step - loss: 0.3187 - val_loss: 0.3223\n",
            "Epoch 8/25\n",
            "546/546 [==============================] - 155s 284ms/step - loss: 0.2672 - val_loss: 0.2857\n",
            "Epoch 9/25\n",
            "546/546 [==============================] - 155s 283ms/step - loss: 0.2293 - val_loss: 0.2580\n",
            "Epoch 10/25\n",
            "546/546 [==============================] - 155s 284ms/step - loss: 0.2000 - val_loss: 0.2363\n",
            "Epoch 11/25\n",
            "546/546 [==============================] - 155s 284ms/step - loss: 0.1773 - val_loss: 0.2258\n",
            "Epoch 12/25\n",
            "546/546 [==============================] - 155s 284ms/step - loss: 0.1587 - val_loss: 0.2100\n",
            "Epoch 13/25\n",
            "546/546 [==============================] - 155s 284ms/step - loss: 0.1425 - val_loss: 0.1983\n",
            "Epoch 14/25\n",
            "546/546 [==============================] - 155s 284ms/step - loss: 0.1301 - val_loss: 0.1905\n",
            "Epoch 15/25\n",
            "546/546 [==============================] - 155s 284ms/step - loss: 0.1196 - val_loss: 0.1846\n",
            "Epoch 16/25\n",
            "546/546 [==============================] - 160s 293ms/step - loss: 0.1111 - val_loss: 0.1778\n",
            "Epoch 17/25\n",
            "546/546 [==============================] - 155s 283ms/step - loss: 0.1036 - val_loss: 0.1738\n",
            "Epoch 18/25\n",
            "546/546 [==============================] - 157s 288ms/step - loss: 0.0962 - val_loss: 0.1705\n",
            "Epoch 19/25\n",
            "546/546 [==============================] - 155s 284ms/step - loss: 0.0906 - val_loss: 0.1669\n",
            "Epoch 20/25\n",
            "546/546 [==============================] - 155s 284ms/step - loss: 0.0859 - val_loss: 0.1659\n",
            "Epoch 21/25\n",
            "546/546 [==============================] - 155s 284ms/step - loss: 0.0812 - val_loss: 0.1606\n",
            "Epoch 22/25\n",
            "546/546 [==============================] - 155s 284ms/step - loss: 0.0759 - val_loss: 0.1593\n",
            "Epoch 23/25\n",
            "546/546 [==============================] - 155s 284ms/step - loss: 0.0721 - val_loss: 0.1585\n",
            "Epoch 24/25\n",
            "546/546 [==============================] - 155s 284ms/step - loss: 0.0687 - val_loss: 0.1581\n",
            "Epoch 25/25\n",
            "546/546 [==============================] - 155s 284ms/step - loss: 0.0656 - val_loss: 0.1574\n"
          ]
        },
        {
          "output_type": "execute_result",
          "data": {
            "text/plain": [
              "<keras.callbacks.History at 0x7ff5278afe90>"
            ]
          },
          "metadata": {},
          "execution_count": 33
        }
      ],
      "source": [
        "model_general.fit(train_dataloader,\n",
        "                     steps_per_epoch=train_steps,\n",
        "                     epochs=25,\n",
        "                     validation_data=vaidation_dataloader,\n",
        "                     validation_steps=valid_steps,\n",
        "                     callbacks=[tensorboard_callback,early_stop],\n",
        "                     verbose=1)"
      ]
    },
    {
      "cell_type": "code",
      "source": [
        "model_general.summary()"
      ],
      "metadata": {
        "colab": {
          "base_uri": "https://localhost:8080/"
        },
        "id": "wgbt2jY50-7c",
        "outputId": "77f4c860-4231-4c15-89d2-dcc640e4385e"
      },
      "execution_count": null,
      "outputs": [
        {
          "output_type": "stream",
          "name": "stdout",
          "text": [
            "Model: \"encoder_decoder\"\n",
            "_________________________________________________________________\n",
            " Layer (type)                Output Shape              Param #   \n",
            "=================================================================\n",
            " encoder_1 (Encoder)         multiple                  1647918   \n",
            "                                                                 \n",
            " decoder_3 (Decoder)         multiple                  5371275   \n",
            "                                                                 \n",
            "=================================================================\n",
            "Total params: 7,019,193\n",
            "Trainable params: 7,019,193\n",
            "Non-trainable params: 0\n",
            "_________________________________________________________________\n"
          ]
        }
      ]
    },
    {
      "cell_type": "code",
      "execution_count": null,
      "metadata": {
        "id": "T5qe3RWsbsVb"
      },
      "outputs": [],
      "source": [
        "import seaborn as sns\n",
        "def predict(model_general,data,visualize=True):\n",
        "    inputs = data.split(' ')\n",
        "    encoder_seq = tknizer_ita.texts_to_sequences([data])\n",
        "    encoder_seq = pad_sequences(encoder_seq, maxlen=25, dtype='int32', padding='post')\n",
        "    encoder_output,state_h,state_c = model_general.encoder(encoder_seq,model_general.encoder.initialize_states(1))\n",
        "    input_to_decoder = np.array(tknizer_eng.texts_to_sequences(['<start>']))\n",
        "    outputs = []\n",
        "    attention_wts = []\n",
        "    count = 0\n",
        "    while True:\n",
        "        output,state_h,state_c,attention_weights,context_vector=model_general.decoder.onestepdecoder(input_to_decoder,\n",
        "                                                                                    encoder_output,\n",
        "                                                                                    state_h,\n",
        "                                                                                    state_c)\n",
        "        eng_id = tf.math.argmax(output[0]).numpy()\n",
        "        eng_word = tknizer_eng.sequences_to_texts([[eng_id]])\n",
        "        input_to_decoder = np.array(tknizer_eng.texts_to_sequences(eng_word))\n",
        "        count += 1\n",
        "        if count == 26 or eng_word[0] == '<end>':\n",
        "            break\n",
        "        outputs.append(eng_word[0])\n",
        "        attention_wts.append(tf.squeeze(attention_weights).numpy()[:len(inputs)])\n",
        "    \n",
        "    attention_wts = np.array(attention_wts)\n",
        "    if visualize:\n",
        "        sns.heatmap(attention_wts,xticklabels=inputs,yticklabels=outputs,cmap=\"flare\")\n",
        "        plt.show()\n",
        "    return(outputs,np.array(attention_wts))"
      ]
    },
    {
      "cell_type": "code",
      "execution_count": null,
      "metadata": {
        "id": "2fyKup-hbsVc",
        "colab": {
          "base_uri": "https://localhost:8080/",
          "height": 1000
        },
        "outputId": "4853be39-2ea2-4816-c694-61ceba5bd946"
      },
      "outputs": [
        {
          "output_type": "stream",
          "name": "stdout",
          "text": [
            "================================================================================\n",
            "Italian Sentence:  quanto pensi che sia idiota\n",
            "Acutual Translation:  how big an idiot do you think i am\n",
            "Attention Weights: \n"
          ]
        },
        {
          "output_type": "display_data",
          "data": {
            "text/plain": [
              "<Figure size 432x288 with 2 Axes>"
            ],
            "image/png": "[encoded data removed]"
          },
          "metadata": {
            "needs_background": "light"
          }
        },
        {
          "output_type": "stream",
          "name": "stdout",
          "text": [
            "Predicted Translation:  how much do you think it is an idiot\n",
            "================================================================================\n",
            "Italian Sentence:  cè la vita su altri mondi\n",
            "Acutual Translation:  is there life on other worlds\n",
            "Attention Weights: \n"
          ]
        },
        {
          "output_type": "display_data",
          "data": {
            "text/plain": [
              "<Figure size 432x288 with 2 Axes>"
            ],
            "image/png": "[encoded data removed]"
          },
          "metadata": {
            "needs_background": "light"
          }
        },
        {
          "output_type": "stream",
          "name": "stdout",
          "text": [
            "Predicted Translation:  is there life on other worlds\n",
            "================================================================================\n",
            "Italian Sentence:  ciò nonostante non sono brava a parlare in inglese\n",
            "Acutual Translation:  however i am not good at speaking english\n",
            "Attention Weights: \n"
          ]
        },
        {
          "output_type": "display_data",
          "data": {
            "text/plain": [
              "<Figure size 432x288 with 2 Axes>"
            ],
            "image/png": "[encoded data removed]"
          },
          "metadata": {
            "needs_background": "light"
          }
        },
        {
          "output_type": "stream",
          "name": "stdout",
          "text": [
            "Predicted Translation:  however i am not good at speaking in english\n",
            "================================================================================\n",
            "Italian Sentence:  erano soldati\n",
            "Acutual Translation:  they were soldiers\n",
            "Attention Weights: \n"
          ]
        },
        {
          "output_type": "display_data",
          "data": {
            "text/plain": [
              "<Figure size 432x288 with 2 Axes>"
            ],
            "image/png": "[encoded data removed]"
          },
          "metadata": {
            "needs_background": "light"
          }
        },
        {
          "output_type": "stream",
          "name": "stdout",
          "text": [
            "Predicted Translation:  they were soldiers\n",
            "================================================================================\n",
            "Italian Sentence:  tom non si sta dimenticando qualcosa\n",
            "Acutual Translation:  is not tom forgetting something\n",
            "Attention Weights: \n"
          ]
        },
        {
          "output_type": "display_data",
          "data": {
            "text/plain": [
              "<Figure size 432x288 with 2 Axes>"
            ],
            "image/png": "[encoded data removed]"
          },
          "metadata": {
            "needs_background": "light"
          }
        },
        {
          "output_type": "stream",
          "name": "stdout",
          "text": [
            "Predicted Translation:  tom is not complaining something\n"
          ]
        }
      ],
      "source": [
        "for i,row in train.sample(5).iterrows():\n",
        "    print('='*80)\n",
        "    print(\"Italian Sentence: \" ,row['italian'].replace('<start> ','').replace(' <end>',''))\n",
        "    print(\"Acutual Translation: \" ,row['english_inp'].replace('<start> ',''))\n",
        "    print(\"Attention Weights: \")\n",
        "    outputs,attention_wts = predict(model_general,row['italian'])\n",
        "    print(\"Predicted Translation: \",\" \".join(outputs))"
      ]
    },
    {
      "cell_type": "markdown",
      "metadata": {
        "id": "vYPAjchFbsVd"
      },
      "source": [
        "<font color='blue'>**Calculate BLEU score**</font>"
      ]
    },
    {
      "cell_type": "code",
      "execution_count": null,
      "metadata": {
        "colab": {
          "base_uri": "https://localhost:8080/"
        },
        "id": "w2p73_kTbsVe",
        "outputId": "62c7d628-6eb1-48e8-dbe1-d95210c50d63"
      },
      "outputs": [
        {
          "output_type": "stream",
          "name": "stdout",
          "text": [
            "Average BLUEU score for 1000 Seneteces is : 0.8179711147055166\n"
          ]
        }
      ],
      "source": [
        "#Create an object of your custom model.\n",
        "#Compile and train your model on dot scoring function.\n",
        "# Visualize few sentences randomly in Test data\n",
        "# Predict on 1000 random sentences on test data and calculate the average BLEU score of these sentences.\n",
        "# https://www.nltk.org/_modules/nltk/translate/bleu_score.html\n",
        "import nltk.translate.bleu_score as bleu\n",
        "bleu_scores = []\n",
        "for index, row in validation.sample(1000).iterrows():\n",
        "    translation,at_wts = predict(model_general,row['italian'],False)\n",
        "    reference = [row['english_inp'].replace('<start> ','').split()]\n",
        "    bleu_scores.append(bleu.sentence_bleu(reference, translation))\n",
        "    \n",
        "print(\"Average BLUEU score for 1000 Seneteces is :\", np.mean(bleu_scores))"
      ]
    },
    {
      "cell_type": "markdown",
      "metadata": {
        "id": "VB1jRUqZQ9AM"
      },
      "source": [
        "<font color='blue'>**Repeat the same steps for Concat scoring function**</font>"
      ]
    },
    {
      "cell_type": "code",
      "execution_count": null,
      "metadata": {
        "id": "1kN9ZWViQNMB"
      },
      "outputs": [],
      "source": [
        "#Compile and train your model on concat scoring function.\n",
        "# Visualize few sentences randomly in Test data\n",
        "# Predict on 1000 random sentences on test data and calculate the average BLEU score of these sentences.\n",
        "# https://www.nltk.org/_modules/nltk/translate/bleu_score.html"
      ]
    },
    {
      "cell_type": "code",
      "execution_count": null,
      "metadata": {
        "id": "m7zvC_vVbsVg"
      },
      "outputs": [],
      "source": [
        ""
      ]
    },
    {
      "cell_type": "code",
      "execution_count": 29,
      "metadata": {
        "id": "wnqevajXbsVg"
      },
      "outputs": [],
      "source": [
        "log_dir = \"logs/fit/\" + datetime.datetime.now().strftime(\"%Y%m%d-%H%M%S\")\n",
        "tensorboard_callback = tf.keras.callbacks.TensorBoard(log_dir=log_dir, histogram_freq=1)\n",
        "early_stop = tf.keras.callbacks.EarlyStopping(monitor='val_loss', mode='min', patience=5,  restore_best_weights=True)"
      ]
    },
    {
      "cell_type": "code",
      "execution_count": 30,
      "metadata": {
        "id": "13OssdGAbsVh"
      },
      "outputs": [],
      "source": [
        "model_concat = encoder_decoder(25,26,vocab_size_eng,'concat')\n",
        "optimizer = tf.keras.optimizers.Adam()\n",
        "model_concat.compile(optimizer=optimizer,loss=loss_function)\n",
        "train_steps=train.shape[0]//batch_size\n",
        "valid_steps=validation.shape[0]//batch_size"
      ]
    },
    {
      "cell_type": "code",
      "execution_count": 32,
      "metadata": {
        "colab": {
          "base_uri": "https://localhost:8080/"
        },
        "id": "E6mISBzgbsVh",
        "outputId": "a38874fb-db2d-4cee-e6de-688f2b9038b2"
      },
      "outputs": [
        {
          "output_type": "stream",
          "name": "stdout",
          "text": [
            "Epoch 1/25\n",
            "546/546 [==============================] - 399s 728ms/step - loss: 1.1666 - val_loss: 0.9982\n",
            "Epoch 2/25\n",
            "546/546 [==============================] - 388s 711ms/step - loss: 0.8557 - val_loss: 0.7351\n",
            "Epoch 3/25\n",
            "546/546 [==============================] - 382s 700ms/step - loss: 0.6461 - val_loss: 0.5733\n",
            "Epoch 4/25\n",
            "546/546 [==============================] - 382s 700ms/step - loss: 0.5022 - val_loss: 0.4605\n",
            "Epoch 5/25\n",
            "546/546 [==============================] - 382s 700ms/step - loss: 0.3985 - val_loss: 0.3812\n",
            "Epoch 6/25\n",
            "546/546 [==============================] - 383s 701ms/step - loss: 0.3242 - val_loss: 0.3242\n",
            "Epoch 7/25\n",
            "546/546 [==============================] - 383s 701ms/step - loss: 0.2701 - val_loss: 0.2848\n",
            "Epoch 8/25\n",
            "546/546 [==============================] - 382s 699ms/step - loss: 0.2302 - val_loss: 0.2573\n",
            "Epoch 9/25\n",
            "546/546 [==============================] - 382s 700ms/step - loss: 0.1992 - val_loss: 0.2349\n",
            "Epoch 10/25\n",
            "546/546 [==============================] - 382s 699ms/step - loss: 0.1751 - val_loss: 0.2200\n",
            "Epoch 11/25\n",
            "546/546 [==============================] - 377s 691ms/step - loss: 0.1564 - val_loss: 0.2057\n",
            "Epoch 12/25\n",
            "546/546 [==============================] - 377s 690ms/step - loss: 0.1407 - val_loss: 0.1955\n",
            "Epoch 13/25\n",
            "546/546 [==============================] - 376s 688ms/step - loss: 0.1277 - val_loss: 0.1869\n",
            "Epoch 14/25\n",
            "546/546 [==============================] - 379s 694ms/step - loss: 0.1166 - val_loss: 0.1821\n",
            "Epoch 15/25\n",
            "546/546 [==============================] - 379s 694ms/step - loss: 0.1077 - val_loss: 0.1788\n",
            "Epoch 16/25\n",
            "546/546 [==============================] - 377s 691ms/step - loss: 0.0998 - val_loss: 0.1703\n",
            "Epoch 17/25\n",
            "546/546 [==============================] - 384s 703ms/step - loss: 0.0928 - val_loss: 0.1675\n",
            "Epoch 18/25\n",
            "546/546 [==============================] - 377s 690ms/step - loss: 0.0867 - val_loss: 0.1641\n",
            "Epoch 19/25\n",
            "546/546 [==============================] - 377s 691ms/step - loss: 0.0811 - val_loss: 0.1611\n",
            "Epoch 20/25\n",
            "546/546 [==============================] - 377s 690ms/step - loss: 0.0760 - val_loss: 0.1591\n",
            "Epoch 21/25\n",
            "546/546 [==============================] - 377s 690ms/step - loss: 0.0715 - val_loss: 0.1597\n",
            "Epoch 22/25\n",
            "546/546 [==============================] - 378s 693ms/step - loss: 0.0683 - val_loss: 0.1557\n",
            "Epoch 23/25\n",
            "546/546 [==============================] - 379s 695ms/step - loss: 0.0642 - val_loss: 0.1547\n",
            "Epoch 24/25\n",
            "546/546 [==============================] - 379s 694ms/step - loss: 0.0606 - val_loss: 0.1542\n",
            "Epoch 25/25\n",
            "546/546 [==============================] - 378s 692ms/step - loss: 0.0578 - val_loss: 0.1522\n"
          ]
        },
        {
          "output_type": "execute_result",
          "data": {
            "text/plain": [
              "<keras.callbacks.History at 0x7fe8deb58750>"
            ]
          },
          "metadata": {},
          "execution_count": 32
        }
      ],
      "source": [
        "model_concat.fit(train_dataloader,\n",
        "                     steps_per_epoch=train_steps,\n",
        "                     epochs=25,\n",
        "                     validation_data=vaidation_dataloader,\n",
        "                     validation_steps=valid_steps,\n",
        "                     callbacks=[tensorboard_callback,early_stop],\n",
        "                     verbose=1)"
      ]
    },
    {
      "cell_type": "code",
      "execution_count": 33,
      "metadata": {
        "id": "A6ZEJwFfxjBu",
        "outputId": "e7cd081a-5a18-4abc-b0af-dc1ac3ccbc09",
        "colab": {
          "base_uri": "https://localhost:8080/"
        }
      },
      "outputs": [
        {
          "output_type": "stream",
          "name": "stdout",
          "text": [
            "Model: \"encoder_decoder\"\n",
            "_________________________________________________________________\n",
            " Layer (type)                Output Shape              Param #   \n",
            "=================================================================\n",
            " encoder_1 (Encoder)         multiple                  1648168   \n",
            "                                                                 \n",
            " decoder_3 (Decoder)         multiple                  5415547   \n",
            "                                                                 \n",
            "=================================================================\n",
            "Total params: 7,063,715\n",
            "Trainable params: 7,063,715\n",
            "Non-trainable params: 0\n",
            "_________________________________________________________________\n"
          ]
        }
      ],
      "source": [
        "model_concat.summary()"
      ]
    },
    {
      "cell_type": "code",
      "execution_count": 34,
      "metadata": {
        "id": "zcf60DmrbsVi"
      },
      "outputs": [],
      "source": [
        "import seaborn as sns\n",
        "def predict(model_concat,data,visualize=True):\n",
        "    inputs = data.split(' ')\n",
        "    encoder_seq = tknizer_ita.texts_to_sequences([data])\n",
        "    encoder_seq = pad_sequences(encoder_seq, maxlen=25, dtype='int32', padding='post')\n",
        "    encoder_output,state_h,state_c = model_concat.encoder(encoder_seq,model_concat.encoder.initialize_states(1))\n",
        "    input_to_decoder = np.array(tknizer_eng.texts_to_sequences(['<start>']))\n",
        "    outputs = []\n",
        "    attention_wts = []\n",
        "    count = 0\n",
        "    while True:\n",
        "        output,state_h,state_c,attention_weights,context_vector=model_concat.decoder.onestepdecoder(input_to_decoder,\n",
        "                                                                                    encoder_output,\n",
        "                                                                                    state_h,\n",
        "                                                                                    state_c)\n",
        "        eng_id = tf.math.argmax(output[0]).numpy()\n",
        "        eng_word = tknizer_eng.sequences_to_texts([[eng_id]])\n",
        "        input_to_decoder = np.array(tknizer_eng.texts_to_sequences(eng_word))\n",
        "        count += 1\n",
        "        if count == 26 or eng_word[0] == '<end>':\n",
        "            break\n",
        "        outputs.append(eng_word[0])\n",
        "        attention_wts.append(tf.squeeze(attention_weights).numpy()[:len(inputs)])\n",
        "    \n",
        "    attention_wts = np.array(attention_wts)\n",
        "    if visualize:\n",
        "        sns.heatmap(attention_wts,xticklabels=inputs,yticklabels=outputs,cmap=\"flare\")\n",
        "        plt.show()\n",
        "    return(outputs,np.array(attention_wts))"
      ]
    },
    {
      "cell_type": "code",
      "execution_count": 35,
      "metadata": {
        "id": "7WCeAlwBbsVi",
        "colab": {
          "base_uri": "https://localhost:8080/",
          "height": 1000
        },
        "outputId": "d9f52fc5-1a41-4207-8db5-51aff56580c7"
      },
      "outputs": [
        {
          "output_type": "stream",
          "name": "stdout",
          "text": [
            "================================================================================\n",
            "Italian Sentence:  io non posso sopportare questo rumore\n",
            "Acutual Translation:  i cannot stand this noise\n",
            "Attention Weights: \n"
          ]
        },
        {
          "output_type": "display_data",
          "data": {
            "text/plain": [
              "<Figure size 432x288 with 2 Axes>"
            ],
            "image/png": "[encoded data removed]"
          },
          "metadata": {
            "needs_background": "light"
          }
        },
        {
          "output_type": "stream",
          "name": "stdout",
          "text": [
            "Predicted Translation:  i can not stand this noise\n",
            "================================================================================\n",
            "Italian Sentence:  se hai un problema parla con tom\n",
            "Acutual Translation:  if you have a problem talk to tom\n",
            "Attention Weights: \n"
          ]
        },
        {
          "output_type": "display_data",
          "data": {
            "text/plain": [
              "<Figure size 432x288 with 2 Axes>"
            ],
            "image/png": "[encoded data removed]"
          },
          "metadata": {
            "needs_background": "light"
          }
        },
        {
          "output_type": "stream",
          "name": "stdout",
          "text": [
            "Predicted Translation:  if you have a problem talk to tom\n",
            "================================================================================\n",
            "Italian Sentence:  voi sarete mie\n",
            "Acutual Translation:  you will be mine\n",
            "Attention Weights: \n"
          ]
        },
        {
          "output_type": "display_data",
          "data": {
            "text/plain": [
              "<Figure size 432x288 with 2 Axes>"
            ],
            "image/png": "[encoded data removed]"
          },
          "metadata": {
            "needs_background": "light"
          }
        },
        {
          "output_type": "stream",
          "name": "stdout",
          "text": [
            "Predicted Translation:  you will be mine\n",
            "================================================================================\n",
            "Italian Sentence:  non sei un prete\n",
            "Acutual Translation:  are not you a priest\n",
            "Attention Weights: \n"
          ]
        },
        {
          "output_type": "display_data",
          "data": {
            "text/plain": [
              "<Figure size 432x288 with 2 Axes>"
            ],
            "image/png": "[encoded data removed]"
          },
          "metadata": {
            "needs_background": "light"
          }
        },
        {
          "output_type": "stream",
          "name": "stdout",
          "text": [
            "Predicted Translation:  are not you a priest\n",
            "================================================================================\n",
            "Italian Sentence:  le cose non sono andate come tom sperava\n",
            "Acutual Translation:  things did not go the way tom had hoped\n",
            "Attention Weights: \n"
          ]
        },
        {
          "output_type": "display_data",
          "data": {
            "text/plain": [
              "<Figure size 432x288 with 2 Axes>"
            ],
            "image/png": "[encoded data removed]"
          },
          "metadata": {
            "needs_background": "light"
          }
        },
        {
          "output_type": "stream",
          "name": "stdout",
          "text": [
            "Predicted Translation:  things did not go as tom were invited\n"
          ]
        }
      ],
      "source": [
        "for i,row in train.sample(5).iterrows():\n",
        "    print('='*80)\n",
        "    print(\"Italian Sentence: \" ,row['italian'].replace('<start> ','').replace(' <end>',''))\n",
        "    print(\"Acutual Translation: \" ,row['english_inp'].replace('<start> ',''))\n",
        "    print(\"Attention Weights: \")\n",
        "    outputs,attention_wts = predict(model_concat,row['italian'])\n",
        "    print(\"Predicted Translation: \",\" \".join(outputs))"
      ]
    },
    {
      "cell_type": "markdown",
      "metadata": {
        "id": "DFyH3jP_bsVk"
      },
      "source": [
        "<font color='blue'>**Calculate BLEU score**</font>"
      ]
    },
    {
      "cell_type": "code",
      "execution_count": 36,
      "metadata": {
        "colab": {
          "base_uri": "https://localhost:8080/"
        },
        "id": "71-W9OWWbsVk",
        "outputId": "3120ad24-282f-41a8-a632-b69383d71c5c"
      },
      "outputs": [
        {
          "output_type": "stream",
          "name": "stdout",
          "text": [
            "Average BLUEU score for 1000 Seneteces is : 0.8064102714326871\n"
          ]
        }
      ],
      "source": [
        "#Create an object of your custom model.\n",
        "#Compile and train your model on dot scoring function.\n",
        "# Visualize few sentences randomly in Test data\n",
        "# Predict on 1000 random sentences on test data and calculate the average BLEU score of these sentences.\n",
        "# https://www.nltk.org/_modules/nltk/translate/bleu_score.html\n",
        "import nltk.translate.bleu_score as bleu\n",
        "bleu_scores = []\n",
        "for index, row in validation.sample(1000).iterrows():\n",
        "    translation,at_wts = predict(model_concat,row['italian'],False)\n",
        "    reference = [row['english_inp'].replace('<start> ','').split()]\n",
        "    bleu_scores.append(bleu.sentence_bleu(reference, translation))\n",
        "    \n",
        "print(\"Average BLUEU score for 1000 Seneteces is :\", np.mean(bleu_scores))"
      ]
    },
    {
      "cell_type": "code",
      "execution_count": null,
      "metadata": {
        "id": "Ff1lV0ITM6_p"
      },
      "outputs": [],
      "source": [
        "# Write your observations on each of the scoring function"
      ]
    },
    {
      "cell_type": "code",
      "execution_count": 37,
      "metadata": {
        "colab": {
          "base_uri": "https://localhost:8080/"
        },
        "id": "DTL63M7xbsVm",
        "outputId": "eb4c027c-9462-46b9-cbe1-3df91e17951f"
      },
      "outputs": [
        {
          "output_type": "stream",
          "name": "stdout",
          "text": [
            "+-----------------------+------------+\n",
            "|      Architecture     | BLEU score |\n",
            "+-----------------------+------------+\n",
            "| Model-Encoder_decoder |   0.620    |\n",
            "|       Model_dot       |   0.801    |\n",
            "|     Model_general     |   0.817    |\n",
            "|      Model_concat     |    0.806   |\n",
            "+-----------------------+------------+\n"
          ]
        }
      ],
      "source": [
        "from prettytable import PrettyTable    \n",
        "x = PrettyTable()\n",
        "x.field_names = [\"Architecture\", \"BLEU score\"]\n",
        "x.add_row([\"Model-Encoder_decoder\", \"0.620\"])\n",
        "x.add_row([\"Model_dot\", \"0.801\"])\n",
        "x.add_row([\"Model_general\", \"0.817\"])\n",
        "x.add_row([\"Model_concat\", \" 0.806\"])\n",
        "print(x)"
      ]
    }
  ],
  "metadata": {
    "accelerator": "GPU",
    "colab": {
      "collapsed_sections": [],
      "name": "Seq2SeqImplementation__Assignment.ipynb",
      "provenance": []
    },
    "kernelspec": {
      "display_name": "Python 3",
      "language": "python",
      "name": "python3"
    },
    "language_info": {
      "codemirror_mode": {
        "name": "ipython",
        "version": 3
      },
      "file_extension": ".py",
      "mimetype": "text/x-python",
      "name": "python",
      "nbconvert_exporter": "python",
      "pygments_lexer": "ipython3",
      "version": "3.7.1"
    }
  },
  "nbformat": 4,
  "nbformat_minor": 0
}